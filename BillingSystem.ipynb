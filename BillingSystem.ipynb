{
 "cells": [
  {
   "cell_type": "code",
   "execution_count": 11,
   "id": "283dfbf5",
   "metadata": {},
   "outputs": [],
   "source": [
    "from pyspark.sql import SparkSession\n",
    "\n",
    "spark = (SparkSession.builder\n",
    "         .appName(\"BillingEngine\")\n",
    "         .config(\"spark.jars\",         r\".\\conf\\postgresql-42.7.6.jar\")\n",
    "         .config(\"spark.driver.extraClassPath\", r\".\\conf\\postgresql-42.7.6.jar\")\n",
    "         .getOrCreate())"
   ]
  },
  {
   "cell_type": "code",
   "execution_count": 12,
   "id": "3c15b680",
   "metadata": {},
   "outputs": [
    {
     "name": "stdout",
     "output_type": "stream",
     "text": [
      "root\n",
      " |-- rate_plan_id: string (nullable = true)\n",
      " |-- product_code: string (nullable = true)\n",
      " |-- customer_id: string (nullable = true)\n",
      " |-- record_ID: string (nullable = true)\n",
      " |-- timestamp: timestamp (nullable = true)\n",
      " |-- cell_id: string (nullable = true)\n",
      " |-- technology: string (nullable = true)\n",
      " |-- caller_id: string (nullable = true)\n",
      " |-- callee_id: string (nullable = true)\n",
      " |-- duration_sec: integer (nullable = true)\n",
      " |-- rating_status: string (nullable = true)\n",
      " |-- sender_id: string (nullable = true)\n",
      " |-- receiver_id: string (nullable = true)\n",
      " |-- user_id: string (nullable = true)\n",
      " |-- session_duration_sec: string (nullable = true)\n",
      " |-- data_volume_mb: string (nullable = true)\n",
      " |-- batch_id: integer (nullable = true)\n",
      " |-- record_type: string (nullable = true)\n",
      " |-- unit: string (nullable = true)\n",
      " |-- rate_type: string (nullable = true)\n",
      " |-- description: string (nullable = true)\n",
      " |-- unit_price: double (nullable = true)\n",
      " |-- free_units: integer (nullable = true)\n",
      " |-- tier_threshold: integer (nullable = true)\n",
      " |-- tier_price: double (nullable = true)\n",
      " |-- imputed_mb: string (nullable = true)\n",
      " |-- dur_sec_imp: integer (nullable = true)\n",
      " |-- billable_units: string (nullable = true)\n",
      " |-- cost: double (nullable = true)\n",
      " |-- billing_period: string (nullable = true)\n",
      "\n"
     ]
    }
   ],
   "source": [
    "rated = spark.read.parquet(\"rated_data/\")\n",
    "rated.printSchema()\n"
   ]
  },
  {
   "cell_type": "code",
   "execution_count": 13,
   "id": "725ddeb9",
   "metadata": {},
   "outputs": [],
   "source": [
    "israted = rated.filter( (rated.rating_status == \"rated\") )"
   ]
  },
  {
   "cell_type": "code",
   "execution_count": 14,
   "id": "1c1bd565",
   "metadata": {},
   "outputs": [],
   "source": [
    "from pyspark.sql import functions as F\n",
    "from pyspark.sql.functions import col, when, lit, round\n",
    "\n",
    "invoices = (israted\n",
    "    .groupBy(\"customer_id\", \"billing_period\")\n",
    "    .agg(\n",
    "        # sous-totaux\n",
    "        F.sum(when(col(\"record_type\") == \"voice\", col(\"cost\"))\n",
    "              .otherwise(0)).alias(\"voice_total\"),\n",
    "\n",
    "        F.sum(when(col(\"record_type\") == \"sms\",  col(\"cost\"))\n",
    "              .otherwise(0)).alias(\"sms_total\"),\n",
    "\n",
    "        F.sum(when(col(\"record_type\") == \"data\", col(\"cost\"))\n",
    "              .otherwise(0)).alias(\"data_total\"),\n",
    "\n",
    "        # total hors taxes\n",
    "        F.sum(col(\"cost\")).alias(\"amount_before_tax\")\n",
    "    )\n",
    ")\n"
   ]
  },
  {
   "cell_type": "code",
   "execution_count": 15,
   "id": "61174244",
   "metadata": {},
   "outputs": [
    {
     "name": "stdout",
     "output_type": "stream",
     "text": [
      "+------------+--------------+------------------+---------+------------------+------------------+------------+------------------+--------------------+----------+\n",
      "|customer_id |billing_period|voice_total       |sms_total|data_total        |amount_before_tax |discount_pct|after_discount    |tax                 |amount_due|\n",
      "+------------+--------------+------------------+---------+------------------+------------------+------------+------------------+--------------------+----------+\n",
      "|212781778912|2025-06       |0.0               |0.1      |0.0               |0.1               |0.05        |0.095             |0.019000000000000003|1.11      |\n",
      "|212745994411|2025-06       |102.86            |0.0      |0.0               |102.86            |0.05        |97.717            |19.543400000000002  |118.26    |\n",
      "|212753433014|2025-06       |103.665           |0.0      |0.0               |103.665           |0.05        |98.48175          |19.696350000000002  |119.18    |\n",
      "|212671680918|2025-06       |50.365            |0.0      |0.0               |50.365            |0.05        |47.84675          |9.56935             |58.42     |\n",
      "|212776115235|2025-06       |15.950000000000001|0.0      |2.64616           |18.59616          |0.05        |17.666352         |3.5332704           |22.2      |\n",
      "|212742342824|2025-06       |0.0               |0.0      |0.0               |0.0               |0.05        |0.0               |0.0                 |1.0       |\n",
      "|212603715531|2025-06       |0.0               |0.0      |1.4271300000000002|1.4271300000000002|0.05        |1.3557735000000002|0.2711547           |2.63      |\n",
      "|212658603474|2025-06       |63.45             |0.0      |0.0               |63.45             |0.05        |60.2775           |12.055500000000002  |73.33     |\n",
      "|212799801813|2025-06       |23.6              |0.1      |0.0               |23.700000000000003|0.05        |22.515            |4.503               |28.02     |\n",
      "|212759539796|2025-06       |5.15              |0.0      |0.0               |5.15              |0.05        |4.8925            |0.9785              |6.87      |\n",
      "|212623054803|2025-06       |35.300000000000004|0.0      |2.5008            |37.8008           |0.05        |35.91076          |7.182152000000001   |44.09     |\n",
      "|212652811753|2025-06       |29.295            |0.0      |0.0               |29.295            |0.05        |27.83025          |5.566050000000001   |34.4      |\n",
      "|212728014095|2025-06       |21.3              |0.1      |0.0               |21.400000000000002|0.05        |20.330000000000002|4.066000000000001   |25.4      |\n",
      "|212794491452|2025-06       |6.72              |0.0      |0.0               |6.72              |0.05        |6.3839999999999995|1.2768              |8.66      |\n",
      "|212601668443|2025-06       |57.64             |0.0      |0.0               |57.64             |0.05        |54.757999999999996|10.9516             |66.71     |\n",
      "|212783998095|2025-06       |5.355             |0.0      |0.0               |5.355             |0.05        |5.08725           |1.01745             |7.1       |\n",
      "|212782121833|2025-06       |8.64              |0.0      |0.0               |8.64              |0.05        |8.208             |1.6416000000000002  |10.85     |\n",
      "|212698457056|2025-06       |24.080000000000002|0.0      |0.0               |24.080000000000002|0.05        |22.876            |4.575200000000001   |28.45     |\n",
      "|212609780872|2025-06       |53.82             |0.0      |0.0               |53.82             |0.05        |51.129            |10.2258             |62.35     |\n",
      "|212602387976|2025-06       |0.0               |0.0      |0.0               |0.0               |0.05        |0.0               |0.0                 |1.0       |\n",
      "+------------+--------------+------------------+---------+------------------+------------------+------------+------------------+--------------------+----------+\n",
      "only showing top 20 rows\n",
      "\n"
     ]
    }
   ],
   "source": [
    "TVA = 0.20\n",
    "regulatory_fees = 1\n",
    "invoices = (invoices\n",
    "    .withColumn(\"discount_pct\", lit(0.05))\n",
    "    .withColumn(\"after_discount\",\n",
    "                col(\"amount_before_tax\") * (1 - col(\"discount_pct\")))\n",
    "    .withColumn(\"tax\", col(\"after_discount\") * lit(TVA))\n",
    "    .withColumn(\"amount_due\", round(col(\"after_discount\") + col(\"tax\")+ lit(regulatory_fees), 2))\n",
    ")\n",
    "\n",
    "invoices.show(truncate=False)\n"
   ]
  },
  {
   "cell_type": "code",
   "execution_count": 16,
   "id": "3f1e7d71",
   "metadata": {},
   "outputs": [
    {
     "name": "stdout",
     "output_type": "stream",
     "text": [
      "+------------+-----------------+---------------+-----------------+------+--------------------+------------+\n",
      "| customer_id|    customer_name|activation_date|subscription_type|status|              region|rate_plan_id|\n",
      "+------------+-----------------+---------------+-----------------+------+--------------------+------------+\n",
      "|212603516508|   Noura El Fassi|     2024-04-03|         postpaid|active|Tanger-Tétouan-Al...|    Titanium|\n",
      "|212754643912| Hamza Benjelloun|     2023-09-07|         postpaid|active|      Drâa-Tafilalet|        Gold|\n",
      "|212646849604|Zahra El Khattabi|     2023-10-14|         postpaid|active|          Fès-Meknès|        Gold|\n",
      "|212637298216|     Zahra Kabbaj|     2025-01-09|         postpaid|active|         Souss-Massa|      Silver|\n",
      "|212698457056|    Othman Daoudi|     2024-09-29|         postpaid|active|Dakhla-Oued Ed-Dahab|        Gold|\n",
      "+------------+-----------------+---------------+-----------------+------+--------------------+------------+\n",
      "only showing top 5 rows\n",
      "\n"
     ]
    }
   ],
   "source": [
    "customersDf = spark.read \\\n",
    "    .format(\"jdbc\")\\\n",
    "    .option(\"url\",      \"jdbc:postgresql://localhost:5432/telecomdb\")\\\n",
    "    .option(\"dbtable\",  \"customer_subscriptions\")\\\n",
    "    .option(\"user\",     \"postgres\")\\\n",
    "    .option(\"password\", \"0000\")\\\n",
    "    .load() \n",
    "\n",
    "customersDf.show(5)"
   ]
  },
  {
   "cell_type": "code",
   "execution_count": 17,
   "id": "a402296f",
   "metadata": {},
   "outputs": [
    {
     "name": "stdout",
     "output_type": "stream",
     "text": [
      "+------------+--------------+--------------------+------------+------------------+---------+----------+------------------+------------+------------------+------------------+----------+\n",
      "| customer_id|billing_period|              region|rate_plan_id|       voice_total|sms_total|data_total| amount_before_tax|discount_pct|    after_discount|               tax|amount_due|\n",
      "+------------+--------------+--------------------+------------+------------------+---------+----------+------------------+------------+------------------+------------------+----------+\n",
      "|212603516508|       2025-06|Tanger-Tétouan-Al...|    Titanium|             14.54|      0.0|       0.0|             14.54|        0.05|13.812999999999999|            2.7626|     17.58|\n",
      "|212754643912|       2025-06|      Drâa-Tafilalet|        Gold|2.2750000000000004|      0.0|   1.89291| 4.167910000000001|        0.05|3.9595145000000005|0.7919029000000002|      5.75|\n",
      "|212646849604|       2025-06|          Fès-Meknès|        Gold|               0.0|      0.0|       0.0|               0.0|        0.05|               0.0|               0.0|       0.0|\n",
      "|212637298216|       2025-06|         Souss-Massa|      Silver|             37.85|      0.0|       0.0|             37.85|        0.05|           35.9575| 7.191500000000001|     44.15|\n",
      "|212698457056|       2025-06|Dakhla-Oued Ed-Dahab|        Gold|24.080000000000002|      0.0|       0.0|24.080000000000002|        0.05|            22.876| 4.575200000000001|     28.45|\n",
      "|212676444201|       2025-06|  Rabat-Salé-Kénitra|        Gold|               0.0|      0.0|       0.0|               0.0|        0.05|               0.0|               0.0|       0.0|\n",
      "|212799801813|       2025-06|          Fès-Meknès|      Silver|              23.6|      0.1|       0.0|23.700000000000003|        0.05|            22.515|             4.503|     28.02|\n",
      "|212626326086|       2025-06|   Casablanca-Settat|    Titanium|              5.86|      0.0|       0.0|              5.86|        0.05|             5.567|1.1134000000000002|      7.68|\n",
      "|212652516673|       2025-06|      Marrakech-Safi|      Silver|               0.0|      0.0|       0.0|               0.0|        0.05|               0.0|               0.0|       0.0|\n",
      "|212652811753|       2025-06|  Rabat-Salé-Kénitra|        Gold|            29.295|      0.0|       0.0|            29.295|        0.05|          27.83025| 5.566050000000001|      34.4|\n",
      "|212643052129|       2025-06|          Fès-Meknès|        Gold| 81.89999999999999|      0.0|       0.0| 81.89999999999999|        0.05| 77.80499999999999|            15.561|     94.37|\n",
      "|212626517159|       2025-06|            Oriental|        Gold|             28.98|      0.0|       0.0|             28.98|        0.05|            27.531|            5.5062|     34.04|\n",
      "|212737975181|       2025-06|          Fès-Meknès|      Silver| 6.050000000000001|      0.1|       0.0|              6.15|        0.05|            5.8425|            1.1685|      8.01|\n",
      "|212797903325|       2025-06|         Souss-Massa|      Silver|               0.0|      0.0|       0.0|               0.0|        0.05|               0.0|               0.0|       0.0|\n",
      "|212765464481|       2025-06|Béni Mellal-Khénifra|      Silver|             102.5|      0.0|       0.0|             102.5|        0.05|            97.375|            19.475|    117.85|\n",
      "|212727442906|       2025-06|Dakhla-Oued Ed-Dahab|    Titanium|              5.34|      0.0|       0.0|              5.34|        0.05|5.0729999999999995|            1.0146|      7.09|\n",
      "|212782121833|       2025-06|   Guelmim-Oued Noun|    Titanium|              8.64|      0.0|       0.0|              8.64|        0.05|             8.208|1.6416000000000002|     10.85|\n",
      "|212610600741|       2025-06|   Guelmim-Oued Noun|        Gold|             2.415|      0.0|       0.0|             2.415|        0.05|           2.29425|           0.45885|      3.75|\n",
      "|212668974708|       2025-06|         Souss-Massa|      Silver|             134.4|      0.1|       0.0|             134.5|        0.05|127.77499999999999|            25.555|    154.33|\n",
      "|212782566888|       2025-06|Dakhla-Oued Ed-Dahab|        Gold|14.350000000000001|      0.0|       0.0|14.350000000000001|        0.05|           13.6325|            2.7265|     17.36|\n",
      "+------------+--------------+--------------------+------------+------------------+---------+----------+------------------+------------+------------------+------------------+----------+\n",
      "only showing top 20 rows\n",
      "\n"
     ]
    }
   ],
   "source": [
    "from pyspark.sql import functions as F\n",
    "\n",
    "# 1) liste des mois à facturer (ex. juin 2025)\n",
    "mois_courant = \"2025-06\"              # ou boucle sur plusieurs périodes\n",
    "\n",
    "# 2) sous-ensemble des clients éligibles\n",
    "clients_elig = (customersDf\n",
    "    .filter( (F.col(\"status\") == \"active\") &\n",
    "             (F.col(\"subscription_type\") == \"postpaid\") )\n",
    "    .select(\"customer_id\",\"region\",\"rate_plan_id\")\n",
    "    .withColumn(\"billing_period\", F.lit(mois_courant))\n",
    ")\n",
    "\n",
    "# 3) jointure gauche clients ↔ invoices\n",
    "facturation_complete = (clients_elig.join(\n",
    "        invoices.filter(F.col(\"billing_period\") == mois_courant),\n",
    "        on=[\"customer_id\", \"billing_period\"],\n",
    "        how=\"left\")\n",
    "    # 4) remplacer les NULL par 0\n",
    "    .fillna({\n",
    "        \"voice_total\":          0.0,\n",
    "        \"sms_total\":            0.0,\n",
    "        \"data_total\":           0.0,\n",
    "        \"amount_before_tax\":    0.0,\n",
    "        \"discount_pct\":         0.05,\n",
    "        \"after_discount\":       0.0,\n",
    "        \"tax\":                  0.0,\n",
    "        \"amount_due\":           0.0\n",
    "    })\n",
    ")\n",
    "\n",
    "facturation_complete.show()\n"
   ]
  },
  {
   "cell_type": "code",
   "execution_count": 18,
   "id": "b0765ebd",
   "metadata": {},
   "outputs": [],
   "source": [
    "facturation_complete.write.mode(\"overwrite\").partitionBy(\"billing_period\").parquet(\"invoice/\")\n"
   ]
  },
  {
   "cell_type": "code",
   "execution_count": 19,
   "id": "05a629bb",
   "metadata": {},
   "outputs": [],
   "source": [
    "(facturation_complete.write\n",
    " .format(\"jdbc\")\n",
    " .option(\"url\",      \"jdbc:postgresql://localhost:5432/telecomdb\")\n",
    " .option(\"dbtable\",  \"invoices\")\n",
    " .option(\"user\",     \"postgres\")\n",
    " .option(\"password\", \"0000\")\n",
    " .mode(\"overwrite\")          \n",
    " .save())\n"
   ]
  },
  {
   "cell_type": "code",
   "execution_count": 20,
   "id": "059900c8",
   "metadata": {},
   "outputs": [
    {
     "name": "stdout",
     "output_type": "stream",
     "text": [
      "+------------+--------------+--------------------+------------+------------------+---------+----------+------------------+------------+------------------+------------------+----------+\n",
      "| customer_id|billing_period|              region|rate_plan_id|       voice_total|sms_total|data_total| amount_before_tax|discount_pct|    after_discount|               tax|amount_due|\n",
      "+------------+--------------+--------------------+------------+------------------+---------+----------+------------------+------------+------------------+------------------+----------+\n",
      "|212603516508|       2025-06|Tanger-Tétouan-Al...|    Titanium|             14.54|      0.0|       0.0|             14.54|        0.05|13.812999999999999|            2.7626|     17.58|\n",
      "|212754643912|       2025-06|      Drâa-Tafilalet|        Gold|2.2750000000000004|      0.0|   1.89291| 4.167910000000001|        0.05|3.9595145000000005|0.7919029000000002|      5.75|\n",
      "|212646849604|       2025-06|          Fès-Meknès|        Gold|               0.0|      0.0|       0.0|               0.0|        0.05|               0.0|               0.0|       0.0|\n",
      "|212637298216|       2025-06|         Souss-Massa|      Silver|             37.85|      0.0|       0.0|             37.85|        0.05|           35.9575| 7.191500000000001|     44.15|\n",
      "|212698457056|       2025-06|Dakhla-Oued Ed-Dahab|        Gold|24.080000000000002|      0.0|       0.0|24.080000000000002|        0.05|            22.876| 4.575200000000001|     28.45|\n",
      "|212676444201|       2025-06|  Rabat-Salé-Kénitra|        Gold|               0.0|      0.0|       0.0|               0.0|        0.05|               0.0|               0.0|       0.0|\n",
      "|212799801813|       2025-06|          Fès-Meknès|      Silver|              23.6|      0.1|       0.0|23.700000000000003|        0.05|            22.515|             4.503|     28.02|\n",
      "|212626326086|       2025-06|   Casablanca-Settat|    Titanium|              5.86|      0.0|       0.0|              5.86|        0.05|             5.567|1.1134000000000002|      7.68|\n",
      "|212652516673|       2025-06|      Marrakech-Safi|      Silver|               0.0|      0.0|       0.0|               0.0|        0.05|               0.0|               0.0|       0.0|\n",
      "|212652811753|       2025-06|  Rabat-Salé-Kénitra|        Gold|            29.295|      0.0|       0.0|            29.295|        0.05|          27.83025| 5.566050000000001|      34.4|\n",
      "|212643052129|       2025-06|          Fès-Meknès|        Gold| 81.89999999999999|      0.0|       0.0| 81.89999999999999|        0.05| 77.80499999999999|            15.561|     94.37|\n",
      "|212626517159|       2025-06|            Oriental|        Gold|             28.98|      0.0|       0.0|             28.98|        0.05|            27.531|            5.5062|     34.04|\n",
      "|212737975181|       2025-06|          Fès-Meknès|      Silver| 6.050000000000001|      0.1|       0.0|              6.15|        0.05|            5.8425|            1.1685|      8.01|\n",
      "|212797903325|       2025-06|         Souss-Massa|      Silver|               0.0|      0.0|       0.0|               0.0|        0.05|               0.0|               0.0|       0.0|\n",
      "|212765464481|       2025-06|Béni Mellal-Khénifra|      Silver|             102.5|      0.0|       0.0|             102.5|        0.05|            97.375|            19.475|    117.85|\n",
      "|212727442906|       2025-06|Dakhla-Oued Ed-Dahab|    Titanium|              5.34|      0.0|       0.0|              5.34|        0.05|5.0729999999999995|            1.0146|      7.09|\n",
      "|212782121833|       2025-06|   Guelmim-Oued Noun|    Titanium|              8.64|      0.0|       0.0|              8.64|        0.05|             8.208|1.6416000000000002|     10.85|\n",
      "|212610600741|       2025-06|   Guelmim-Oued Noun|        Gold|             2.415|      0.0|       0.0|             2.415|        0.05|           2.29425|           0.45885|      3.75|\n",
      "|212668974708|       2025-06|         Souss-Massa|      Silver|             134.4|      0.1|       0.0|             134.5|        0.05|127.77499999999999|            25.555|    154.33|\n",
      "|212782566888|       2025-06|Dakhla-Oued Ed-Dahab|        Gold|14.350000000000001|      0.0|       0.0|14.350000000000001|        0.05|           13.6325|            2.7265|     17.36|\n",
      "+------------+--------------+--------------------+------------+------------------+---------+----------+------------------+------------+------------------+------------------+----------+\n",
      "only showing top 20 rows\n",
      "\n"
     ]
    }
   ],
   "source": [
    "facturation_complete.show()"
   ]
  }
 ],
 "metadata": {
  "kernelspec": {
   "display_name": "Python 3",
   "language": "python",
   "name": "python3"
  },
  "language_info": {
   "codemirror_mode": {
    "name": "ipython",
    "version": 3
   },
   "file_extension": ".py",
   "mimetype": "text/x-python",
   "name": "python",
   "nbconvert_exporter": "python",
   "pygments_lexer": "ipython3",
   "version": "3.12.5"
  }
 },
 "nbformat": 4,
 "nbformat_minor": 5
}
