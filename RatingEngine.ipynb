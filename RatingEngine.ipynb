{
 "cells": [
  {
   "cell_type": "code",
   "execution_count": 26,
   "id": "0eafc561",
   "metadata": {},
   "outputs": [],
   "source": [
    "from pyspark.sql import SparkSession\n",
    "from pyspark.sql.functions import when, lit, ceil\n",
    "\n",
    "spark = SparkSession.builder\\\n",
    "         .appName(\"RatingEngine\")\\\n",
    "         .config(\"spark.jars\", r\".conf\\postgresql-42.7.6.jar\")\\\n",
    "         .config(\"spark.driver.extraClassPath\", r\".\\conf\\postgresql-42.7.6.jar\")\\\n",
    "         .config(\"spark.executor.extraClassPath\", r\".\\conf\\\\postgresql-42.7.6.jar\")\\\n",
    "         .config(\"spark.sql.shuffle.partitions\", \"50\")\\\n",
    "         .config(\"spark.sql.autoBroadcastJoinThreshold\", \"10485760\")\\\n",
    "         .config(\"spark.driver.memory\", \"6g\")\\\n",
    "         .getOrCreate()"
   ]
  },
  {
   "cell_type": "code",
   "execution_count": 27,
   "id": "2ce7d8c2",
   "metadata": {},
   "outputs": [],
   "source": [
    "data_path = r\".\\mediated_data\"\n",
    "\n",
    "cleanedCdrsDf  = spark.read.format(\"parquet\") \\\n",
    "    .option(\"header\", \"true\") \\\n",
    "    .option(\"inferSchema\", \"true\") \\\n",
    "    .load(data_path)"
   ]
  },
  {
   "cell_type": "code",
   "execution_count": 28,
   "id": "65ab5c4e",
   "metadata": {},
   "outputs": [
    {
     "name": "stdout",
     "output_type": "stream",
     "text": [
      "+------------+-----------------+---------------+-----------------+------+--------------------+------------+\n",
      "| customer_id|    customer_name|activation_date|subscription_type|status|              region|rate_plan_id|\n",
      "+------------+-----------------+---------------+-----------------+------+--------------------+------------+\n",
      "|212603516508|   Noura El Fassi|     2024-04-03|         postpaid|active|Tanger-Tétouan-Al...|    Titanium|\n",
      "|212754643912| Hamza Benjelloun|     2023-09-07|         postpaid|active|      Drâa-Tafilalet|        Gold|\n",
      "|212646849604|Zahra El Khattabi|     2023-10-14|         postpaid|active|          Fès-Meknès|        Gold|\n",
      "|212637298216|     Zahra Kabbaj|     2025-01-09|         postpaid|active|         Souss-Massa|      Silver|\n",
      "|212698457056|    Othman Daoudi|     2024-09-29|         postpaid|active|Dakhla-Oued Ed-Dahab|        Gold|\n",
      "+------------+-----------------+---------------+-----------------+------+--------------------+------------+\n",
      "only showing top 5 rows\n",
      "\n"
     ]
    }
   ],
   "source": [
    "customersDf = spark.read \\\n",
    "    .format(\"jdbc\")\\\n",
    "    .option(\"url\",      \"jdbc:postgresql://localhost:5432/telecomdb\")\\\n",
    "    .option(\"dbtable\",  \"customer_subscriptions\")\\\n",
    "    .option(\"user\",     \"postgres\")\\\n",
    "    .option(\"password\", \"0000\")\\\n",
    "    .load() \n",
    "\n",
    "customersDf.show(5)"
   ]
  },
  {
   "cell_type": "code",
   "execution_count": 29,
   "id": "b6195e08",
   "metadata": {},
   "outputs": [
    {
     "name": "stdout",
     "output_type": "stream",
     "text": [
      "+------------+------------+------+---------+--------------------+\n",
      "|product_code|service_type|  unit|rate_type|         description|\n",
      "+------------+------------+------+---------+--------------------+\n",
      "|   VOICE_NAT|       voice|second|     flat|Appel vocal local...|\n",
      "|   VOICE_INT|       voice|second|     flat|Appel vocal inter...|\n",
      "|     SMS_STD|         sms|   sms|     flat|Envoi SMS standar...|\n",
      "|    DATA_STD|        data|    MB|     flat|Connexion Interne...|\n",
      "|  DATA_ULTRA|        data|    MB|   tiered|Connexion Interne...|\n",
      "+------------+------------+------+---------+--------------------+\n",
      "\n"
     ]
    }
   ],
   "source": [
    "catalogDf = spark.read \\\n",
    "    .format(\"jdbc\")\\\n",
    "    .option(\"url\",      \"jdbc:postgresql://localhost:5432/telecomdb\")\\\n",
    "    .option(\"dbtable\",  \"productCatalog\")\\\n",
    "    .option(\"user\",     \"postgres\")\\\n",
    "    .option(\"password\", \"0000\")\\\n",
    "    .load() \n",
    "\n",
    "catalogDf.show(5)"
   ]
  },
  {
   "cell_type": "code",
   "execution_count": 30,
   "id": "a7161cb2",
   "metadata": {},
   "outputs": [
    {
     "name": "stdout",
     "output_type": "stream",
     "text": [
      "+------------+------------+------------+----------+----------+--------------+----------+\n",
      "|rate_plan_id|product_code|service_type|unit_price|free_units|tier_threshold|tier_price|\n",
      "+------------+------------+------------+----------+----------+--------------+----------+\n",
      "|      Silver|   VOICE_NAT|       voice|      0.05|        30|          NULL|      NULL|\n",
      "|      Silver|   VOICE_INT|       voice|      0.25|         0|          NULL|      NULL|\n",
      "|      Silver|    DATA_STD|        data|      0.01|       100|          NULL|      NULL|\n",
      "|      Silver|  DATA_ULTRA|        data|     0.005|       200|           500|     0.002|\n",
      "|        Gold|   VOICE_NAT|       voice|     0.035|        60|          NULL|      NULL|\n",
      "+------------+------------+------------+----------+----------+--------------+----------+\n",
      "only showing top 5 rows\n",
      "\n",
      "Successfully loaded rate_plans table\n"
     ]
    }
   ],
   "source": [
    "from pyspark.sql.functions import col\n",
    "\n",
    "try:\n",
    "    ratePlansDf = spark.read \\\n",
    "        .format(\"jdbc\") \\\n",
    "        .option(\"url\", \"jdbc:postgresql://localhost:5432/telecomdb\") \\\n",
    "        .option(\"dbtable\", \"rate_plans\") \\\n",
    "        .option(\"user\", \"postgres\") \\\n",
    "        .option(\"password\", \"0000\") \\\n",
    "        .load() \\\n",
    "        .withColumn(\"unit_price\", col(\"unit_price\").cast(\"double\")) \\\n",
    "        .withColumn(\"free_units\", col(\"free_units\").cast(\"int\")) \\\n",
    "        .withColumn(\"tier_threshold\", col(\"tier_threshold\").cast(\"int\")) \\\n",
    "        .withColumn(\"tier_price\", col(\"tier_price\").cast(\"double\"))\n",
    "    \n",
    "    ratePlansDf.show(5)\n",
    "    print(\"Successfully loaded rate_plans table\")\n",
    "    \n",
    "except Exception as e:\n",
    "    print(f\"Error loading data: {e}\")"
   ]
  },
  {
   "cell_type": "code",
   "execution_count": 31,
   "id": "645907fe",
   "metadata": {},
   "outputs": [],
   "source": [
    "records = (cleanedCdrsDf\n",
    "        .withColumn(\n",
    "            \"customer_id\",\n",
    "            when(col(\"record_type\") == \"voice\", col(\"caller_id\"))\n",
    "            .when(col(\"record_type\") == \"sms\",  col(\"sender_id\"))\n",
    "            .otherwise(col(\"user_id\"))\n",
    "        ))"
   ]
  },
  {
   "cell_type": "code",
   "execution_count": 32,
   "id": "29150203",
   "metadata": {},
   "outputs": [
    {
     "name": "stdout",
     "output_type": "stream",
     "text": [
      "+--------------------+--------------------+------------+----------+------------+-------------+------------+------------+-------------+---------+-----------+------------+--------------------+--------------+--------+-----------+------------+\n",
      "|           record_ID|           timestamp|     cell_id|technology|   caller_id|    callee_id|duration_sec|product_code|rating_status|sender_id|receiver_id|     user_id|session_duration_sec|data_volume_mb|batch_id|record_type| customer_id|\n",
      "+--------------------+--------------------+------------+----------+------------+-------------+------------+------------+-------------+---------+-----------+------------+--------------------+--------------+--------+-----------+------------+\n",
      "|65b1359e-f697-451...|2025-06-10 17:08:...|         UNK|        5G|        NULL|         NULL|        NULL|   DATA_PLUS|        ready|     NULL|       NULL|212626326086|                 589|       1639.17|       2|       data|212626326086|\n",
      "|71e761ed-1038-402...|2025-06-10 17:08:...|         UNK|        4G|        NULL|         NULL|        NULL|   DATA_PLUS|        ready|     NULL|       NULL|212643052129|                  97|       1524.96|       2|       data|212643052129|\n",
      "|4a3a7e6e-9d9f-4e4...|2025-06-10 17:08:...|MARRAKECH_11|        2G|        NULL|         NULL|        NULL|   DATA_PLUS|        ready|     NULL|       NULL|212602910472|                 325|        297.26|       2|       data|212602910472|\n",
      "|96fcf67c-dc02-437...|2025-06-10 17:08:...|         UNK|        2G|        NULL|         NULL|        NULL|  DATA_ULTRA|        ready|     NULL|       NULL|212756673548|                 296|        269.46|       2|       data|212756673548|\n",
      "|7c948b3b-31ad-435...|2025-06-10 17:08:...|  TETOUAN_14|        4G|        NULL|         NULL|        NULL|   DATA_PLUS|        ready|     NULL|       NULL|212782121833|                 442|        503.88|       2|       data|212782121833|\n",
      "|fe933917-cd62-44b...|2025-06-10 17:08:...|     TAZA_14|        4G|        NULL|         NULL|        NULL|   DATA_PLUS|        ready|     NULL|       NULL|212626326086|                 290|       1525.52|       2|       data|212626326086|\n",
      "|efc0afd0-1568-4c5...|2025-06-10 17:08:...|         UNK|        3G|        NULL|         NULL|        NULL|   DATA_PLUS|        ready|     NULL|       NULL|212727807090|                 382|        231.02|       2|       data|212727807090|\n",
      "|029501d3-7736-45c...|2025-06-10 17:08:...|    RABAT_18|        5G|        NULL|         NULL|        NULL|   DATA_PLUS|        ready|     NULL|       NULL|212688273855|                 560|       1098.24|       2|       data|212688273855|\n",
      "|7dc3608b-c2c9-48f...|2025-06-10 17:08:...|         UNK|        4G|        NULL|         NULL|        NULL|   DATA_PLUS|        ready|     NULL|       NULL|212745994411|                 566|         826.2|       2|       data|212745994411|\n",
      "|d234359b-74cc-4ae...|2025-06-10 17:08:...|   DAKHLA_01|        5G|        NULL|         NULL|        NULL|  DATA_ULTRA|        ready|     NULL|       NULL|212603715531|                 285|        725.71|       2|       data|212603715531|\n",
      "|c7d5e55c-7ea6-4e9...|2025-06-10 17:08:...|MARRAKECH_12|        4G|        NULL|         NULL|        NULL|   DATA_PLUS|        ready|     NULL|       NULL|212688055636|                 131|        1537.0|       2|       data|212688055636|\n",
      "|08ed0b9d-b9fa-49e...|2025-06-10 17:08:...|   TANGER_18|        4G|212643052129|  61110017570|         465|   VOICE_INT|        ready|     NULL|       NULL|        NULL|                NULL|          NULL|       3|      voice|212643052129|\n",
      "|86c10701-dcbe-45e...|2025-06-10 17:08:...|   TANGER_20|        5G|212664732397| 212730161816|         307|   VOICE_NAT|        ready|     NULL|       NULL|        NULL|                NULL|          NULL|       3|      voice|212664732397|\n",
      "|6f5a65dc-bd62-40b...|2025-06-10 17:08:...|         UNK|        4G|212666741423|5598676896950|         263|   VOICE_INT|        ready|     NULL|       NULL|        NULL|                NULL|          NULL|       3|      voice|212666741423|\n",
      "|32affb36-4610-436...|2025-06-10 17:08:...| ELJADIDA_20|        3G|212641329359| 212698855987|          52|   VOICE_NAT|        ready|     NULL|       NULL|        NULL|                NULL|          NULL|       3|      voice|212641329359|\n",
      "|d32f8089-581b-429...|2025-06-10 17:08:...|KHOURIBGA_06|        4G|212671680918| 212721113052|          95|   VOICE_NAT|        ready|     NULL|       NULL|        NULL|                NULL|          NULL|       3|      voice|212671680918|\n",
      "|38f57287-8993-4da...|2025-06-10 17:08:...|MARRAKECH_02|        4G|212776115235| 212799801813|         168|   VOICE_NAT|        ready|     NULL|       NULL|        NULL|                NULL|          NULL|       3|      voice|212776115235|\n",
      "|5ba1b661-dfd2-4a2...|2025-06-10 17:08:...|MARRAKECH_05|        4G|212782566888| 212797903325|          79|   VOICE_NAT|        ready|     NULL|       NULL|        NULL|                NULL|          NULL|       3|      voice|212782566888|\n",
      "|f7cc26fd-1fc2-49a...|2025-06-10 17:08:...|   MEKNES_08|        4G|212748336147|8625764746805|         346|   VOICE_INT|        ready|     NULL|       NULL|        NULL|                NULL|          NULL|       3|      voice|212748336147|\n",
      "|326338ed-03c4-46a...|2025-06-10 17:08:...|         UNK|        4G|212758427114|  32764525856|         578|   VOICE_INT|        ready|     NULL|       NULL|        NULL|                NULL|          NULL|       3|      voice|212758427114|\n",
      "+--------------------+--------------------+------------+----------+------------+-------------+------------+------------+-------------+---------+-----------+------------+--------------------+--------------+--------+-----------+------------+\n",
      "only showing top 20 rows\n",
      "\n"
     ]
    }
   ],
   "source": [
    "records.count()\n",
    "\n",
    "records.show()"
   ]
  },
  {
   "cell_type": "code",
   "execution_count": 33,
   "id": "72c6e9c5",
   "metadata": {},
   "outputs": [
    {
     "name": "stdout",
     "output_type": "stream",
     "text": [
      "+------------+--------------------+--------------------+-------------+----------+------------+------------+------------+------------+-------------+------------+------------+------------+--------------------+--------------+--------+-----------+------------+\n",
      "| customer_id|           record_ID|           timestamp|      cell_id|technology|   caller_id|   callee_id|duration_sec|product_code|rating_status|   sender_id| receiver_id|     user_id|session_duration_sec|data_volume_mb|batch_id|record_type|rate_plan_id|\n",
      "+------------+--------------------+--------------------+-------------+----------+------------+------------+------------+------------+-------------+------------+------------+------------+--------------------+--------------+--------+-----------+------------+\n",
      "|212603516508|638b4663-510b-4a2...|2025-06-10 17:10:...|   KENITRA_03|        2G|        NULL|        NULL|        NULL|   DATA_PLUS| needs_review|        NULL|        NULL|212603516508|                 UNK|           UNK|      18|       data|    Titanium|\n",
      "|212603516508|fa2f954c-792c-4c0...|2025-06-10 17:10:...|          UNK|        4G|        NULL|        NULL|        NULL|   DATA_PLUS|        ready|        NULL|        NULL|212603516508|                  60|        712.53|      20|       data|    Titanium|\n",
      "|212603516508|d1f464e9-305f-4dd...|2025-06-10 17:10:...|   TETOUAN_03|        2G|212603516508|         UNK|         301|   VOICE_NAT|        ready|        NULL|        NULL|        NULL|                NULL|          NULL|      15|      voice|    Titanium|\n",
      "|212603516508|0a02d08b-ca84-4c1...|2025-06-10 17:10:...|          UNK|        4G|212603516508|212639290924|         255|   VOICE_NAT|        ready|        NULL|        NULL|        NULL|                NULL|          NULL|      18|      voice|    Titanium|\n",
      "|212603516508|0e14f239-c711-439...|2025-06-10 17:09:...|       FES_16|        2G|212603516508|212786592212|         463|   VOICE_NAT|        ready|        NULL|        NULL|        NULL|                NULL|          NULL|      11|      voice|    Titanium|\n",
      "|212603516508|97d231db-04ec-42f...|2025-06-10 17:09:...|          UNK|        5G|212603516508|212601668443|         188|   VOICE_NAT|        ready|        NULL|        NULL|        NULL|                NULL|          NULL|       6|      voice|    Titanium|\n",
      "|212754643912|efe8ca82-1670-491...|2025-06-10 17:08:...|          UNK|        2G|        NULL|        NULL|        NULL|   DATA_PLUS| needs_review|        NULL|        NULL|212754643912|                 UNK|       1915.66|       3|       data|        Gold|\n",
      "|212754643912|ce4ed4c0-4372-406...|2025-06-10 17:10:...|          UNK|        5G|        NULL|        NULL|        NULL|  DATA_ULTRA|        ready|        NULL|        NULL|212754643912|                 320|        880.97|      19|       data|        Gold|\n",
      "|212754643912|633385b5-6616-4d0...|2025-06-10 17:10:...| ALHOCEIMA_14|        3G|212754643912|212670130275|         125|   VOICE_NAT|        ready|        NULL|        NULL|        NULL|                NULL|          NULL|      16|      voice|        Gold|\n",
      "|212637298216|531e76a3-b798-4fb...|2025-06-10 17:08:...|   TETOUAN_07|        2G|212637298216|212744065247|         119|   VOICE_NAT|        ready|        NULL|        NULL|        NULL|                NULL|          NULL|       1|      voice|      Silver|\n",
      "|212637298216|34c6384a-6a81-4bd...|2025-06-10 17:09:...|   TETOUAN_18|        5G|212637298216|212754643912|         527|   VOICE_NAT|        ready|        NULL|        NULL|        NULL|                NULL|          NULL|      10|      voice|      Silver|\n",
      "|212637298216|dcb81f6b-a6a8-4bd...|2025-06-10 17:10:...|          UNK|        5G|212637298216|212676444201|         201|   VOICE_NAT|        ready|        NULL|        NULL|        NULL|                NULL|          NULL|      14|      voice|      Silver|\n",
      "|212698457056|f59b49b9-e6cb-40a...|2025-06-10 17:09:...|      SAFI_09|        2G|212698457056|212718246351|         455|   VOICE_NAT|        ready|        NULL|        NULL|        NULL|                NULL|          NULL|       5|      voice|        Gold|\n",
      "|212698457056|e0c7161b-32bd-427...|2025-06-10 17:09:...|CASABLANCA_02|        4G|212698457056|212745994411|         349|   VOICE_NAT|        ready|        NULL|        NULL|        NULL|                NULL|          NULL|      12|      voice|        Gold|\n",
      "|212698457056|61d216f2-5ae1-4e8...|2025-06-10 17:09:...|   KENITRA_10|        3G|212698457056|212797903325|          64|   VOICE_NAT|        ready|        NULL|        NULL|        NULL|                NULL|          NULL|       6|      voice|        Gold|\n",
      "|212799801813|a11698a7-023a-404...|2025-06-10 17:09:...| ALHOCEIMA_01|        5G|        NULL|        NULL|        NULL|     SMS_STD|        ready|212799801813| 61460400731|        NULL|                NULL|          NULL|       7|        sms|      Silver|\n",
      "|212799801813|8c34e0c0-8181-47b...|2025-06-10 17:10:...|CASABLANCA_16|        3G|212799801813|212641751971|         502|   VOICE_NAT|        ready|        NULL|        NULL|        NULL|                NULL|          NULL|      14|      voice|      Silver|\n",
      "|212626326086|d5ef5cc9-68e5-488...|2025-06-10 17:09:...|    AGADIR_13|        4G|        NULL|        NULL|        NULL|     SMS_STD|        ready|212626326086|212603715531|        NULL|                NULL|          NULL|      12|        sms|    Titanium|\n",
      "|212626326086|e82af1ed-6a46-4fb...|2025-06-10 17:10:...|    MEKNES_12|        3G|        NULL|        NULL|        NULL|   DATA_PLUS|        ready|        NULL|        NULL|212626326086|                 114|         96.33|      18|       data|    Titanium|\n",
      "|212626326086|78ccf598-e808-486...|2025-06-10 17:08:...|      SAFI_08|        5G|212626326086|212601981747|         413|   VOICE_NAT|        ready|        NULL|        NULL|        NULL|                NULL|          NULL|       2|      voice|    Titanium|\n",
      "+------------+--------------------+--------------------+-------------+----------+------------+------------+------------+------------+-------------+------------+------------+------------+--------------------+--------------+--------+-----------+------------+\n",
      "only showing top 20 rows\n",
      "\n"
     ]
    }
   ],
   "source": [
    "# jointure client → plan \n",
    "cdrJoinPlan = records.join(\n",
    "    customersDf.filter((col(\"status\") == \"active\") &\n",
    "                       (col(\"subscription_type\") == \"postpaid\"))\n",
    "               .select(\"customer_id\", \"rate_plan_id\"),\n",
    "    on=\"customer_id\",\n",
    "    how=\"inner\"\n",
    ")\n",
    "cdrJoinPlan.show()"
   ]
  },
  {
   "cell_type": "code",
   "execution_count": 34,
   "id": "d92da766",
   "metadata": {},
   "outputs": [
    {
     "name": "stdout",
     "output_type": "stream",
     "text": [
      "+------------+------------+--------------------+--------------------+-------------+----------+------------+------------+------------+-------------+------------+------------+------------+--------------------+--------------+--------+-----------+------------+------------+------+---------+--------------------+\n",
      "|product_code| customer_id|           record_ID|           timestamp|      cell_id|technology|   caller_id|   callee_id|duration_sec|rating_status|   sender_id| receiver_id|     user_id|session_duration_sec|data_volume_mb|batch_id|record_type|rate_plan_id|service_type|  unit|rate_type|         description|\n",
      "+------------+------------+--------------------+--------------------+-------------+----------+------------+------------+------------+-------------+------------+------------+------------+--------------------+--------------+--------+-----------+------------+------------+------+---------+--------------------+\n",
      "|   DATA_PLUS|212603516508|638b4663-510b-4a2...|2025-06-10 17:10:...|   KENITRA_03|        2G|        NULL|        NULL|        NULL| needs_review|        NULL|        NULL|212603516508|                 UNK|           UNK|      18|       data|    Titanium|        NULL|  NULL|     NULL|                NULL|\n",
      "|   DATA_PLUS|212603516508|fa2f954c-792c-4c0...|2025-06-10 17:10:...|          UNK|        4G|        NULL|        NULL|        NULL|        ready|        NULL|        NULL|212603516508|                  60|        712.53|      20|       data|    Titanium|        NULL|  NULL|     NULL|                NULL|\n",
      "|   VOICE_NAT|212603516508|d1f464e9-305f-4dd...|2025-06-10 17:10:...|   TETOUAN_03|        2G|212603516508|         UNK|         301|        ready|        NULL|        NULL|        NULL|                NULL|          NULL|      15|      voice|    Titanium|       voice|second|     flat|Appel vocal local...|\n",
      "|   VOICE_NAT|212603516508|0a02d08b-ca84-4c1...|2025-06-10 17:10:...|          UNK|        4G|212603516508|212639290924|         255|        ready|        NULL|        NULL|        NULL|                NULL|          NULL|      18|      voice|    Titanium|       voice|second|     flat|Appel vocal local...|\n",
      "|   VOICE_NAT|212603516508|0e14f239-c711-439...|2025-06-10 17:09:...|       FES_16|        2G|212603516508|212786592212|         463|        ready|        NULL|        NULL|        NULL|                NULL|          NULL|      11|      voice|    Titanium|       voice|second|     flat|Appel vocal local...|\n",
      "|   VOICE_NAT|212603516508|97d231db-04ec-42f...|2025-06-10 17:09:...|          UNK|        5G|212603516508|212601668443|         188|        ready|        NULL|        NULL|        NULL|                NULL|          NULL|       6|      voice|    Titanium|       voice|second|     flat|Appel vocal local...|\n",
      "|   DATA_PLUS|212754643912|efe8ca82-1670-491...|2025-06-10 17:08:...|          UNK|        2G|        NULL|        NULL|        NULL| needs_review|        NULL|        NULL|212754643912|                 UNK|       1915.66|       3|       data|        Gold|        NULL|  NULL|     NULL|                NULL|\n",
      "|  DATA_ULTRA|212754643912|ce4ed4c0-4372-406...|2025-06-10 17:10:...|          UNK|        5G|        NULL|        NULL|        NULL|        ready|        NULL|        NULL|212754643912|                 320|        880.97|      19|       data|        Gold|        data|    MB|   tiered|Connexion Interne...|\n",
      "|   VOICE_NAT|212754643912|633385b5-6616-4d0...|2025-06-10 17:10:...| ALHOCEIMA_14|        3G|212754643912|212670130275|         125|        ready|        NULL|        NULL|        NULL|                NULL|          NULL|      16|      voice|        Gold|       voice|second|     flat|Appel vocal local...|\n",
      "|   VOICE_NAT|212637298216|531e76a3-b798-4fb...|2025-06-10 17:08:...|   TETOUAN_07|        2G|212637298216|212744065247|         119|        ready|        NULL|        NULL|        NULL|                NULL|          NULL|       1|      voice|      Silver|       voice|second|     flat|Appel vocal local...|\n",
      "|   VOICE_NAT|212637298216|34c6384a-6a81-4bd...|2025-06-10 17:09:...|   TETOUAN_18|        5G|212637298216|212754643912|         527|        ready|        NULL|        NULL|        NULL|                NULL|          NULL|      10|      voice|      Silver|       voice|second|     flat|Appel vocal local...|\n",
      "|   VOICE_NAT|212637298216|dcb81f6b-a6a8-4bd...|2025-06-10 17:10:...|          UNK|        5G|212637298216|212676444201|         201|        ready|        NULL|        NULL|        NULL|                NULL|          NULL|      14|      voice|      Silver|       voice|second|     flat|Appel vocal local...|\n",
      "|   VOICE_NAT|212698457056|f59b49b9-e6cb-40a...|2025-06-10 17:09:...|      SAFI_09|        2G|212698457056|212718246351|         455|        ready|        NULL|        NULL|        NULL|                NULL|          NULL|       5|      voice|        Gold|       voice|second|     flat|Appel vocal local...|\n",
      "|   VOICE_NAT|212698457056|e0c7161b-32bd-427...|2025-06-10 17:09:...|CASABLANCA_02|        4G|212698457056|212745994411|         349|        ready|        NULL|        NULL|        NULL|                NULL|          NULL|      12|      voice|        Gold|       voice|second|     flat|Appel vocal local...|\n",
      "|   VOICE_NAT|212698457056|61d216f2-5ae1-4e8...|2025-06-10 17:09:...|   KENITRA_10|        3G|212698457056|212797903325|          64|        ready|        NULL|        NULL|        NULL|                NULL|          NULL|       6|      voice|        Gold|       voice|second|     flat|Appel vocal local...|\n",
      "|     SMS_STD|212799801813|a11698a7-023a-404...|2025-06-10 17:09:...| ALHOCEIMA_01|        5G|        NULL|        NULL|        NULL|        ready|212799801813| 61460400731|        NULL|                NULL|          NULL|       7|        sms|      Silver|         sms|   sms|     flat|Envoi SMS standar...|\n",
      "|   VOICE_NAT|212799801813|8c34e0c0-8181-47b...|2025-06-10 17:10:...|CASABLANCA_16|        3G|212799801813|212641751971|         502|        ready|        NULL|        NULL|        NULL|                NULL|          NULL|      14|      voice|      Silver|       voice|second|     flat|Appel vocal local...|\n",
      "|     SMS_STD|212626326086|d5ef5cc9-68e5-488...|2025-06-10 17:09:...|    AGADIR_13|        4G|        NULL|        NULL|        NULL|        ready|212626326086|212603715531|        NULL|                NULL|          NULL|      12|        sms|    Titanium|         sms|   sms|     flat|Envoi SMS standar...|\n",
      "|   DATA_PLUS|212626326086|e82af1ed-6a46-4fb...|2025-06-10 17:10:...|    MEKNES_12|        3G|        NULL|        NULL|        NULL|        ready|        NULL|        NULL|212626326086|                 114|         96.33|      18|       data|    Titanium|        NULL|  NULL|     NULL|                NULL|\n",
      "|   VOICE_NAT|212626326086|78ccf598-e808-486...|2025-06-10 17:08:...|      SAFI_08|        5G|212626326086|212601981747|         413|        ready|        NULL|        NULL|        NULL|                NULL|          NULL|       2|      voice|    Titanium|       voice|second|     flat|Appel vocal local...|\n",
      "+------------+------------+--------------------+--------------------+-------------+----------+------------+------------+------------+-------------+------------+------------+------------+--------------------+--------------+--------+-----------+------------+------------+------+---------+--------------------+\n",
      "only showing top 20 rows\n",
      "\n"
     ]
    }
   ],
   "source": [
    "# jointure produit → (rate_type, service_type) \n",
    "cdrJoinCatalog = cdrJoinPlan.join(catalogDf, on=\"product_code\", how=\"left\")\n",
    "cdrJoinCatalog.show()"
   ]
  },
  {
   "cell_type": "code",
   "execution_count": 35,
   "id": "6212e60b",
   "metadata": {},
   "outputs": [],
   "source": [
    "cdrJoinRating = cdrJoinCatalog.join(ratePlansDf,\n",
    "                   on=[\"rate_plan_id\", \"product_code\"],\n",
    "                   how=\"left\")"
   ]
  },
  {
   "cell_type": "code",
   "execution_count": 36,
   "id": "dde74800",
   "metadata": {},
   "outputs": [
    {
     "name": "stdout",
     "output_type": "stream",
     "text": [
      "+------------+------------+------------+--------------------+--------------------+-------------+----------+------------+------------+------------+-------------+------------+------------+------------+--------------------+--------------+--------+-----------+------------+------+---------+--------------------+------------+----------+----------+--------------+----------+\n",
      "|rate_plan_id|product_code| customer_id|           record_ID|           timestamp|      cell_id|technology|   caller_id|   callee_id|duration_sec|rating_status|   sender_id| receiver_id|     user_id|session_duration_sec|data_volume_mb|batch_id|record_type|service_type|  unit|rate_type|         description|service_type|unit_price|free_units|tier_threshold|tier_price|\n",
      "+------------+------------+------------+--------------------+--------------------+-------------+----------+------------+------------+------------+-------------+------------+------------+------------+--------------------+--------------+--------+-----------+------------+------+---------+--------------------+------------+----------+----------+--------------+----------+\n",
      "|      Silver|   VOICE_NAT|212637298216|531e76a3-b798-4fb...|2025-06-10 17:08:...|   TETOUAN_07|        2G|212637298216|212744065247|         119|        ready|        NULL|        NULL|        NULL|                NULL|          NULL|       1|      voice|       voice|second|     flat|Appel vocal local...|       voice|      0.05|        30|          NULL|      NULL|\n",
      "|      Silver|   VOICE_NAT|212637298216|34c6384a-6a81-4bd...|2025-06-10 17:09:...|   TETOUAN_18|        5G|212637298216|212754643912|         527|        ready|        NULL|        NULL|        NULL|                NULL|          NULL|      10|      voice|       voice|second|     flat|Appel vocal local...|       voice|      0.05|        30|          NULL|      NULL|\n",
      "|      Silver|   VOICE_NAT|212637298216|dcb81f6b-a6a8-4bd...|2025-06-10 17:10:...|          UNK|        5G|212637298216|212676444201|         201|        ready|        NULL|        NULL|        NULL|                NULL|          NULL|      14|      voice|       voice|second|     flat|Appel vocal local...|       voice|      0.05|        30|          NULL|      NULL|\n",
      "|      Silver|   VOICE_NAT|212799801813|8c34e0c0-8181-47b...|2025-06-10 17:10:...|CASABLANCA_16|        3G|212799801813|212641751971|         502|        ready|        NULL|        NULL|        NULL|                NULL|          NULL|      14|      voice|       voice|second|     flat|Appel vocal local...|       voice|      0.05|        30|          NULL|      NULL|\n",
      "|    Titanium|     SMS_STD|212626326086|d5ef5cc9-68e5-488...|2025-06-10 17:09:...|    AGADIR_13|        4G|        NULL|        NULL|        NULL|        ready|212626326086|212603715531|        NULL|                NULL|          NULL|      12|        sms|         sms|   sms|     flat|Envoi SMS standar...|         sms|      0.05|         3|          NULL|      NULL|\n",
      "|        Gold|   VOICE_NAT|212754643912|633385b5-6616-4d0...|2025-06-10 17:10:...| ALHOCEIMA_14|        3G|212754643912|212670130275|         125|        ready|        NULL|        NULL|        NULL|                NULL|          NULL|      16|      voice|       voice|second|     flat|Appel vocal local...|       voice|     0.035|        60|          NULL|      NULL|\n",
      "|        Gold|   VOICE_NAT|212698457056|f59b49b9-e6cb-40a...|2025-06-10 17:09:...|      SAFI_09|        2G|212698457056|212718246351|         455|        ready|        NULL|        NULL|        NULL|                NULL|          NULL|       5|      voice|       voice|second|     flat|Appel vocal local...|       voice|     0.035|        60|          NULL|      NULL|\n",
      "|        Gold|   VOICE_NAT|212698457056|e0c7161b-32bd-427...|2025-06-10 17:09:...|CASABLANCA_02|        4G|212698457056|212745994411|         349|        ready|        NULL|        NULL|        NULL|                NULL|          NULL|      12|      voice|       voice|second|     flat|Appel vocal local...|       voice|     0.035|        60|          NULL|      NULL|\n",
      "|        Gold|   VOICE_NAT|212698457056|61d216f2-5ae1-4e8...|2025-06-10 17:09:...|   KENITRA_10|        3G|212698457056|212797903325|          64|        ready|        NULL|        NULL|        NULL|                NULL|          NULL|       6|      voice|       voice|second|     flat|Appel vocal local...|       voice|     0.035|        60|          NULL|      NULL|\n",
      "|        Gold|  DATA_ULTRA|212754643912|ce4ed4c0-4372-406...|2025-06-10 17:10:...|          UNK|        5G|        NULL|        NULL|        NULL|        ready|        NULL|        NULL|212754643912|                 320|        880.97|      19|       data|        data|    MB|   tiered|Connexion Interne...|        data|     0.003|       250|          1000|     0.001|\n",
      "|        Gold|   DATA_PLUS|212754643912|efe8ca82-1670-491...|2025-06-10 17:08:...|          UNK|        2G|        NULL|        NULL|        NULL| needs_review|        NULL|        NULL|212754643912|                 UNK|       1915.66|       3|       data|        NULL|  NULL|     NULL|                NULL|        NULL|      NULL|      NULL|          NULL|      NULL|\n",
      "|    Titanium|   DATA_PLUS|212603516508|638b4663-510b-4a2...|2025-06-10 17:10:...|   KENITRA_03|        2G|        NULL|        NULL|        NULL| needs_review|        NULL|        NULL|212603516508|                 UNK|           UNK|      18|       data|        NULL|  NULL|     NULL|                NULL|        NULL|      NULL|      NULL|          NULL|      NULL|\n",
      "|    Titanium|   DATA_PLUS|212603516508|fa2f954c-792c-4c0...|2025-06-10 17:10:...|          UNK|        4G|        NULL|        NULL|        NULL|        ready|        NULL|        NULL|212603516508|                  60|        712.53|      20|       data|        NULL|  NULL|     NULL|                NULL|        NULL|      NULL|      NULL|          NULL|      NULL|\n",
      "|    Titanium|   DATA_PLUS|212626326086|e82af1ed-6a46-4fb...|2025-06-10 17:10:...|    MEKNES_12|        3G|        NULL|        NULL|        NULL|        ready|        NULL|        NULL|212626326086|                 114|         96.33|      18|       data|        NULL|  NULL|     NULL|                NULL|        NULL|      NULL|      NULL|          NULL|      NULL|\n",
      "|    Titanium|   DATA_PLUS|212626326086|fe933917-cd62-44b...|2025-06-10 17:08:...|      TAZA_14|        4G|        NULL|        NULL|        NULL|        ready|        NULL|        NULL|212626326086|                 290|       1525.52|       2|       data|        NULL|  NULL|     NULL|                NULL|        NULL|      NULL|      NULL|          NULL|      NULL|\n",
      "|      Silver|     SMS_STD|212799801813|a11698a7-023a-404...|2025-06-10 17:09:...| ALHOCEIMA_01|        5G|        NULL|        NULL|        NULL|        ready|212799801813| 61460400731|        NULL|                NULL|          NULL|       7|        sms|         sms|   sms|     flat|Envoi SMS standar...|         sms|       0.1|         0|          NULL|      NULL|\n",
      "|    Titanium|   VOICE_NAT|212603516508|d1f464e9-305f-4dd...|2025-06-10 17:10:...|   TETOUAN_03|        2G|212603516508|         UNK|         301|        ready|        NULL|        NULL|        NULL|                NULL|          NULL|      15|      voice|       voice|second|     flat|Appel vocal local...|       voice|      0.02|       120|          NULL|      NULL|\n",
      "|    Titanium|   VOICE_NAT|212603516508|0a02d08b-ca84-4c1...|2025-06-10 17:10:...|          UNK|        4G|212603516508|212639290924|         255|        ready|        NULL|        NULL|        NULL|                NULL|          NULL|      18|      voice|       voice|second|     flat|Appel vocal local...|       voice|      0.02|       120|          NULL|      NULL|\n",
      "|    Titanium|   VOICE_NAT|212603516508|0e14f239-c711-439...|2025-06-10 17:09:...|       FES_16|        2G|212603516508|212786592212|         463|        ready|        NULL|        NULL|        NULL|                NULL|          NULL|      11|      voice|       voice|second|     flat|Appel vocal local...|       voice|      0.02|       120|          NULL|      NULL|\n",
      "|    Titanium|   VOICE_NAT|212603516508|97d231db-04ec-42f...|2025-06-10 17:09:...|          UNK|        5G|212603516508|212601668443|         188|        ready|        NULL|        NULL|        NULL|                NULL|          NULL|       6|      voice|       voice|second|     flat|Appel vocal local...|       voice|      0.02|       120|          NULL|      NULL|\n",
      "+------------+------------+------------+--------------------+--------------------+-------------+----------+------------+------------+------------+-------------+------------+------------+------------+--------------------+--------------+--------+-----------+------------+------+---------+--------------------+------------+----------+----------+--------------+----------+\n",
      "only showing top 20 rows\n",
      "\n"
     ]
    }
   ],
   "source": [
    "cdrJoinRating.show()"
   ]
  },
  {
   "cell_type": "code",
   "execution_count": 37,
   "id": "bd2697ab",
   "metadata": {},
   "outputs": [
    {
     "name": "stdout",
     "output_type": "stream",
     "text": [
      "+------------+------------+------------+--------------------+--------------------+-------------+----------+------------+------------+------------+-------------+------------+------------+------------+--------------------+--------------+--------+-----------+------+---------+--------------------+----------+----------+--------------+----------+\n",
      "|rate_plan_id|product_code| customer_id|           record_ID|           timestamp|      cell_id|technology|   caller_id|   callee_id|duration_sec|rating_status|   sender_id| receiver_id|     user_id|session_duration_sec|data_volume_mb|batch_id|record_type|  unit|rate_type|         description|unit_price|free_units|tier_threshold|tier_price|\n",
      "+------------+------------+------------+--------------------+--------------------+-------------+----------+------------+------------+------------+-------------+------------+------------+------------+--------------------+--------------+--------+-----------+------+---------+--------------------+----------+----------+--------------+----------+\n",
      "|    Titanium|   DATA_PLUS|212603516508|638b4663-510b-4a2...|2025-06-10 17:10:...|   KENITRA_03|        2G|        NULL|        NULL|        NULL| needs_review|        NULL|        NULL|212603516508|                 UNK|           UNK|      18|       data|  NULL|     NULL|                NULL|      NULL|      NULL|          NULL|      NULL|\n",
      "|    Titanium|   DATA_PLUS|212603516508|fa2f954c-792c-4c0...|2025-06-10 17:10:...|          UNK|        4G|        NULL|        NULL|        NULL|        ready|        NULL|        NULL|212603516508|                  60|        712.53|      20|       data|  NULL|     NULL|                NULL|      NULL|      NULL|          NULL|      NULL|\n",
      "|    Titanium|   VOICE_NAT|212603516508|d1f464e9-305f-4dd...|2025-06-10 17:10:...|   TETOUAN_03|        2G|212603516508|         UNK|         301|        ready|        NULL|        NULL|        NULL|                NULL|          NULL|      15|      voice|second|     flat|Appel vocal local...|      0.02|       120|          NULL|      NULL|\n",
      "|    Titanium|   VOICE_NAT|212603516508|0a02d08b-ca84-4c1...|2025-06-10 17:10:...|          UNK|        4G|212603516508|212639290924|         255|        ready|        NULL|        NULL|        NULL|                NULL|          NULL|      18|      voice|second|     flat|Appel vocal local...|      0.02|       120|          NULL|      NULL|\n",
      "|    Titanium|   VOICE_NAT|212603516508|0e14f239-c711-439...|2025-06-10 17:09:...|       FES_16|        2G|212603516508|212786592212|         463|        ready|        NULL|        NULL|        NULL|                NULL|          NULL|      11|      voice|second|     flat|Appel vocal local...|      0.02|       120|          NULL|      NULL|\n",
      "|    Titanium|   VOICE_NAT|212603516508|97d231db-04ec-42f...|2025-06-10 17:09:...|          UNK|        5G|212603516508|212601668443|         188|        ready|        NULL|        NULL|        NULL|                NULL|          NULL|       6|      voice|second|     flat|Appel vocal local...|      0.02|       120|          NULL|      NULL|\n",
      "|        Gold|   DATA_PLUS|212754643912|efe8ca82-1670-491...|2025-06-10 17:08:...|          UNK|        2G|        NULL|        NULL|        NULL| needs_review|        NULL|        NULL|212754643912|                 UNK|       1915.66|       3|       data|  NULL|     NULL|                NULL|      NULL|      NULL|          NULL|      NULL|\n",
      "|        Gold|  DATA_ULTRA|212754643912|ce4ed4c0-4372-406...|2025-06-10 17:10:...|          UNK|        5G|        NULL|        NULL|        NULL|        ready|        NULL|        NULL|212754643912|                 320|        880.97|      19|       data|    MB|   tiered|Connexion Interne...|     0.003|       250|          1000|     0.001|\n",
      "|        Gold|   VOICE_NAT|212754643912|633385b5-6616-4d0...|2025-06-10 17:10:...| ALHOCEIMA_14|        3G|212754643912|212670130275|         125|        ready|        NULL|        NULL|        NULL|                NULL|          NULL|      16|      voice|second|     flat|Appel vocal local...|     0.035|        60|          NULL|      NULL|\n",
      "|      Silver|   VOICE_NAT|212637298216|531e76a3-b798-4fb...|2025-06-10 17:08:...|   TETOUAN_07|        2G|212637298216|212744065247|         119|        ready|        NULL|        NULL|        NULL|                NULL|          NULL|       1|      voice|second|     flat|Appel vocal local...|      0.05|        30|          NULL|      NULL|\n",
      "|      Silver|   VOICE_NAT|212637298216|34c6384a-6a81-4bd...|2025-06-10 17:09:...|   TETOUAN_18|        5G|212637298216|212754643912|         527|        ready|        NULL|        NULL|        NULL|                NULL|          NULL|      10|      voice|second|     flat|Appel vocal local...|      0.05|        30|          NULL|      NULL|\n",
      "|      Silver|   VOICE_NAT|212637298216|dcb81f6b-a6a8-4bd...|2025-06-10 17:10:...|          UNK|        5G|212637298216|212676444201|         201|        ready|        NULL|        NULL|        NULL|                NULL|          NULL|      14|      voice|second|     flat|Appel vocal local...|      0.05|        30|          NULL|      NULL|\n",
      "|        Gold|   VOICE_NAT|212698457056|f59b49b9-e6cb-40a...|2025-06-10 17:09:...|      SAFI_09|        2G|212698457056|212718246351|         455|        ready|        NULL|        NULL|        NULL|                NULL|          NULL|       5|      voice|second|     flat|Appel vocal local...|     0.035|        60|          NULL|      NULL|\n",
      "|        Gold|   VOICE_NAT|212698457056|e0c7161b-32bd-427...|2025-06-10 17:09:...|CASABLANCA_02|        4G|212698457056|212745994411|         349|        ready|        NULL|        NULL|        NULL|                NULL|          NULL|      12|      voice|second|     flat|Appel vocal local...|     0.035|        60|          NULL|      NULL|\n",
      "|        Gold|   VOICE_NAT|212698457056|61d216f2-5ae1-4e8...|2025-06-10 17:09:...|   KENITRA_10|        3G|212698457056|212797903325|          64|        ready|        NULL|        NULL|        NULL|                NULL|          NULL|       6|      voice|second|     flat|Appel vocal local...|     0.035|        60|          NULL|      NULL|\n",
      "|      Silver|     SMS_STD|212799801813|a11698a7-023a-404...|2025-06-10 17:09:...| ALHOCEIMA_01|        5G|        NULL|        NULL|        NULL|        ready|212799801813| 61460400731|        NULL|                NULL|          NULL|       7|        sms|   sms|     flat|Envoi SMS standar...|       0.1|         0|          NULL|      NULL|\n",
      "|      Silver|   VOICE_NAT|212799801813|8c34e0c0-8181-47b...|2025-06-10 17:10:...|CASABLANCA_16|        3G|212799801813|212641751971|         502|        ready|        NULL|        NULL|        NULL|                NULL|          NULL|      14|      voice|second|     flat|Appel vocal local...|      0.05|        30|          NULL|      NULL|\n",
      "|    Titanium|     SMS_STD|212626326086|d5ef5cc9-68e5-488...|2025-06-10 17:09:...|    AGADIR_13|        4G|        NULL|        NULL|        NULL|        ready|212626326086|212603715531|        NULL|                NULL|          NULL|      12|        sms|   sms|     flat|Envoi SMS standar...|      0.05|         3|          NULL|      NULL|\n",
      "|    Titanium|   DATA_PLUS|212626326086|e82af1ed-6a46-4fb...|2025-06-10 17:10:...|    MEKNES_12|        3G|        NULL|        NULL|        NULL|        ready|        NULL|        NULL|212626326086|                 114|         96.33|      18|       data|  NULL|     NULL|                NULL|      NULL|      NULL|          NULL|      NULL|\n",
      "|    Titanium|   VOICE_NAT|212626326086|78ccf598-e808-486...|2025-06-10 17:08:...|      SAFI_08|        5G|212626326086|212601981747|         413|        ready|        NULL|        NULL|        NULL|                NULL|          NULL|       2|      voice|second|     flat|Appel vocal local...|      0.02|       120|          NULL|      NULL|\n",
      "+------------+------------+------------+--------------------+--------------------+-------------+----------+------------+------------+------------+-------------+------------+------------+------------+--------------------+--------------+--------+-----------+------+---------+--------------------+----------+----------+--------------+----------+\n",
      "only showing top 20 rows\n",
      "\n"
     ]
    }
   ],
   "source": [
    "cdrJoinRating=cdrJoinRating.drop(\"service_type\")\n",
    "cdrJoinRating.show()"
   ]
  },
  {
   "cell_type": "code",
   "execution_count": 38,
   "id": "31aa9336",
   "metadata": {},
   "outputs": [
    {
     "name": "stdout",
     "output_type": "stream",
     "text": [
      "+------------+------------+------------+--------------------+--------------------+-------------+----------+------------+------------+------------+-------------+------------+------------+------------+--------------------+--------------+--------+-----------+------+---------+--------------------+----------+----------+--------------+----------+\n",
      "|rate_plan_id|product_code| customer_id|           record_ID|           timestamp|      cell_id|technology|   caller_id|   callee_id|duration_sec|rating_status|   sender_id| receiver_id|     user_id|session_duration_sec|data_volume_mb|batch_id|record_type|  unit|rate_type|         description|unit_price|free_units|tier_threshold|tier_price|\n",
      "+------------+------------+------------+--------------------+--------------------+-------------+----------+------------+------------+------------+-------------+------------+------------+------------+--------------------+--------------+--------+-----------+------+---------+--------------------+----------+----------+--------------+----------+\n",
      "|        Gold|  DATA_ULTRA|212754643912|ce4ed4c0-4372-406...|2025-06-10 17:10:...|          UNK|        5G|        NULL|        NULL|        NULL|        ready|        NULL|        NULL|212754643912|                 320|        880.97|      19|       data|    MB|   tiered|Connexion Interne...|     0.003|       250|          1000|     0.001|\n",
      "|      Silver|     SMS_STD|212799801813|a11698a7-023a-404...|2025-06-10 17:09:...| ALHOCEIMA_01|        5G|        NULL|        NULL|        NULL|        ready|212799801813| 61460400731|        NULL|                NULL|          NULL|       7|        sms|   sms|     flat|Envoi SMS standar...|       0.1|         0|          NULL|      NULL|\n",
      "|    Titanium|     SMS_STD|212626326086|d5ef5cc9-68e5-488...|2025-06-10 17:09:...|    AGADIR_13|        4G|        NULL|        NULL|        NULL|        ready|212626326086|212603715531|        NULL|                NULL|          NULL|      12|        sms|   sms|     flat|Envoi SMS standar...|      0.05|         3|          NULL|      NULL|\n",
      "|    Titanium|   VOICE_NAT|212603516508|d1f464e9-305f-4dd...|2025-06-10 17:10:...|   TETOUAN_03|        2G|212603516508|         UNK|         301|        ready|        NULL|        NULL|        NULL|                NULL|          NULL|      15|      voice|second|     flat|Appel vocal local...|      0.02|       120|          NULL|      NULL|\n",
      "|    Titanium|   VOICE_NAT|212603516508|0a02d08b-ca84-4c1...|2025-06-10 17:10:...|          UNK|        4G|212603516508|212639290924|         255|        ready|        NULL|        NULL|        NULL|                NULL|          NULL|      18|      voice|second|     flat|Appel vocal local...|      0.02|       120|          NULL|      NULL|\n",
      "|    Titanium|   VOICE_NAT|212603516508|0e14f239-c711-439...|2025-06-10 17:09:...|       FES_16|        2G|212603516508|212786592212|         463|        ready|        NULL|        NULL|        NULL|                NULL|          NULL|      11|      voice|second|     flat|Appel vocal local...|      0.02|       120|          NULL|      NULL|\n",
      "|    Titanium|   VOICE_NAT|212603516508|97d231db-04ec-42f...|2025-06-10 17:09:...|          UNK|        5G|212603516508|212601668443|         188|        ready|        NULL|        NULL|        NULL|                NULL|          NULL|       6|      voice|second|     flat|Appel vocal local...|      0.02|       120|          NULL|      NULL|\n",
      "|        Gold|   VOICE_NAT|212754643912|633385b5-6616-4d0...|2025-06-10 17:10:...| ALHOCEIMA_14|        3G|212754643912|212670130275|         125|        ready|        NULL|        NULL|        NULL|                NULL|          NULL|      16|      voice|second|     flat|Appel vocal local...|     0.035|        60|          NULL|      NULL|\n",
      "|      Silver|   VOICE_NAT|212637298216|531e76a3-b798-4fb...|2025-06-10 17:08:...|   TETOUAN_07|        2G|212637298216|212744065247|         119|        ready|        NULL|        NULL|        NULL|                NULL|          NULL|       1|      voice|second|     flat|Appel vocal local...|      0.05|        30|          NULL|      NULL|\n",
      "|      Silver|   VOICE_NAT|212637298216|34c6384a-6a81-4bd...|2025-06-10 17:09:...|   TETOUAN_18|        5G|212637298216|212754643912|         527|        ready|        NULL|        NULL|        NULL|                NULL|          NULL|      10|      voice|second|     flat|Appel vocal local...|      0.05|        30|          NULL|      NULL|\n",
      "|      Silver|   VOICE_NAT|212637298216|dcb81f6b-a6a8-4bd...|2025-06-10 17:10:...|          UNK|        5G|212637298216|212676444201|         201|        ready|        NULL|        NULL|        NULL|                NULL|          NULL|      14|      voice|second|     flat|Appel vocal local...|      0.05|        30|          NULL|      NULL|\n",
      "|        Gold|   VOICE_NAT|212698457056|f59b49b9-e6cb-40a...|2025-06-10 17:09:...|      SAFI_09|        2G|212698457056|212718246351|         455|        ready|        NULL|        NULL|        NULL|                NULL|          NULL|       5|      voice|second|     flat|Appel vocal local...|     0.035|        60|          NULL|      NULL|\n",
      "|        Gold|   VOICE_NAT|212698457056|e0c7161b-32bd-427...|2025-06-10 17:09:...|CASABLANCA_02|        4G|212698457056|212745994411|         349|        ready|        NULL|        NULL|        NULL|                NULL|          NULL|      12|      voice|second|     flat|Appel vocal local...|     0.035|        60|          NULL|      NULL|\n",
      "|        Gold|   VOICE_NAT|212698457056|61d216f2-5ae1-4e8...|2025-06-10 17:09:...|   KENITRA_10|        3G|212698457056|212797903325|          64|        ready|        NULL|        NULL|        NULL|                NULL|          NULL|       6|      voice|second|     flat|Appel vocal local...|     0.035|        60|          NULL|      NULL|\n",
      "|      Silver|   VOICE_NAT|212799801813|8c34e0c0-8181-47b...|2025-06-10 17:10:...|CASABLANCA_16|        3G|212799801813|212641751971|         502|        ready|        NULL|        NULL|        NULL|                NULL|          NULL|      14|      voice|second|     flat|Appel vocal local...|      0.05|        30|          NULL|      NULL|\n",
      "|    Titanium|   VOICE_NAT|212626326086|78ccf598-e808-486...|2025-06-10 17:08:...|      SAFI_08|        5G|212626326086|212601981747|         413|        ready|        NULL|        NULL|        NULL|                NULL|          NULL|       2|      voice|second|     flat|Appel vocal local...|      0.02|       120|          NULL|      NULL|\n",
      "|    Titanium|   DATA_PLUS|212603516508|638b4663-510b-4a2...|2025-06-10 17:10:...|   KENITRA_03|        2G|        NULL|        NULL|        NULL| needs_review|        NULL|        NULL|212603516508|                 UNK|           UNK|      18|       data|  NULL|     NULL|                NULL|      NULL|      NULL|          NULL|      NULL|\n",
      "|    Titanium|   DATA_PLUS|212603516508|fa2f954c-792c-4c0...|2025-06-10 17:10:...|          UNK|        4G|        NULL|        NULL|        NULL|        ready|        NULL|        NULL|212603516508|                  60|        712.53|      20|       data|  NULL|     NULL|                NULL|      NULL|      NULL|          NULL|      NULL|\n",
      "|        Gold|   DATA_PLUS|212754643912|efe8ca82-1670-491...|2025-06-10 17:08:...|          UNK|        2G|        NULL|        NULL|        NULL| needs_review|        NULL|        NULL|212754643912|                 UNK|       1915.66|       3|       data|  NULL|     NULL|                NULL|      NULL|      NULL|          NULL|      NULL|\n",
      "|    Titanium|   DATA_PLUS|212626326086|e82af1ed-6a46-4fb...|2025-06-10 17:10:...|    MEKNES_12|        3G|        NULL|        NULL|        NULL|        ready|        NULL|        NULL|212626326086|                 114|         96.33|      18|       data|  NULL|     NULL|                NULL|      NULL|      NULL|          NULL|      NULL|\n",
      "+------------+------------+------------+--------------------+--------------------+-------------+----------+------------+------------+------------+-------------+------------+------------+------------+--------------------+--------------+--------+-----------+------+---------+--------------------+----------+----------+--------------+----------+\n",
      "only showing top 20 rows\n",
      "\n"
     ]
    }
   ],
   "source": [
    "cdrJoinRating.show()"
   ]
  },
  {
   "cell_type": "code",
   "execution_count": 39,
   "id": "95afade2",
   "metadata": {},
   "outputs": [],
   "source": [
    "cdrJoinRating = cdrJoinRating.withColumn(\n",
    "    \"imputed_mb\",\n",
    "    when((col(\"data_volume_mb\").isNull()) | (col(\"data_volume_mb\")==\"UNK\"), lit(0))\n",
    "    .otherwise(col(\"data_volume_mb\"))\n",
    ")"
   ]
  },
  {
   "cell_type": "code",
   "execution_count": 40,
   "id": "0c150671",
   "metadata": {},
   "outputs": [],
   "source": [
    "cdrJoinRating = cdrJoinRating.withColumn(\n",
    "    \"rating_status\",\n",
    "    when(col(\"rating_status\")==\"needs_review\", \"ready\").otherwise(col(\"rating_status\"))\n",
    ")"
   ]
  },
  {
   "cell_type": "code",
   "execution_count": 41,
   "id": "94a9c421",
   "metadata": {},
   "outputs": [
    {
     "name": "stdout",
     "output_type": "stream",
     "text": [
      "+------------+------------+------------+--------------------+--------------------+-------------+----------+------------+------------+------------+-------------+------------+------------+------------+--------------------+--------------+--------+-----------+------+---------+--------------------+----------+----------+--------------+----------+----------+\n",
      "|rate_plan_id|product_code| customer_id|           record_ID|           timestamp|      cell_id|technology|   caller_id|   callee_id|duration_sec|rating_status|   sender_id| receiver_id|     user_id|session_duration_sec|data_volume_mb|batch_id|record_type|  unit|rate_type|         description|unit_price|free_units|tier_threshold|tier_price|imputed_mb|\n",
      "+------------+------------+------------+--------------------+--------------------+-------------+----------+------------+------------+------------+-------------+------------+------------+------------+--------------------+--------------+--------+-----------+------+---------+--------------------+----------+----------+--------------+----------+----------+\n",
      "|        Gold|  DATA_ULTRA|212754643912|ce4ed4c0-4372-406...|2025-06-10 17:10:...|          UNK|        5G|        NULL|        NULL|        NULL|        ready|        NULL|        NULL|212754643912|                 320|        880.97|      19|       data|    MB|   tiered|Connexion Interne...|     0.003|       250|          1000|     0.001|    880.97|\n",
      "|      Silver|     SMS_STD|212799801813|a11698a7-023a-404...|2025-06-10 17:09:...| ALHOCEIMA_01|        5G|        NULL|        NULL|        NULL|        ready|212799801813| 61460400731|        NULL|                NULL|          NULL|       7|        sms|   sms|     flat|Envoi SMS standar...|       0.1|         0|          NULL|      NULL|         0|\n",
      "|    Titanium|     SMS_STD|212626326086|d5ef5cc9-68e5-488...|2025-06-10 17:09:...|    AGADIR_13|        4G|        NULL|        NULL|        NULL|        ready|212626326086|212603715531|        NULL|                NULL|          NULL|      12|        sms|   sms|     flat|Envoi SMS standar...|      0.05|         3|          NULL|      NULL|         0|\n",
      "|    Titanium|   VOICE_NAT|212603516508|d1f464e9-305f-4dd...|2025-06-10 17:10:...|   TETOUAN_03|        2G|212603516508|         UNK|         301|        ready|        NULL|        NULL|        NULL|                NULL|          NULL|      15|      voice|second|     flat|Appel vocal local...|      0.02|       120|          NULL|      NULL|         0|\n",
      "|    Titanium|   VOICE_NAT|212603516508|0a02d08b-ca84-4c1...|2025-06-10 17:10:...|          UNK|        4G|212603516508|212639290924|         255|        ready|        NULL|        NULL|        NULL|                NULL|          NULL|      18|      voice|second|     flat|Appel vocal local...|      0.02|       120|          NULL|      NULL|         0|\n",
      "|    Titanium|   VOICE_NAT|212603516508|0e14f239-c711-439...|2025-06-10 17:09:...|       FES_16|        2G|212603516508|212786592212|         463|        ready|        NULL|        NULL|        NULL|                NULL|          NULL|      11|      voice|second|     flat|Appel vocal local...|      0.02|       120|          NULL|      NULL|         0|\n",
      "|    Titanium|   VOICE_NAT|212603516508|97d231db-04ec-42f...|2025-06-10 17:09:...|          UNK|        5G|212603516508|212601668443|         188|        ready|        NULL|        NULL|        NULL|                NULL|          NULL|       6|      voice|second|     flat|Appel vocal local...|      0.02|       120|          NULL|      NULL|         0|\n",
      "|        Gold|   VOICE_NAT|212754643912|633385b5-6616-4d0...|2025-06-10 17:10:...| ALHOCEIMA_14|        3G|212754643912|212670130275|         125|        ready|        NULL|        NULL|        NULL|                NULL|          NULL|      16|      voice|second|     flat|Appel vocal local...|     0.035|        60|          NULL|      NULL|         0|\n",
      "|      Silver|   VOICE_NAT|212637298216|531e76a3-b798-4fb...|2025-06-10 17:08:...|   TETOUAN_07|        2G|212637298216|212744065247|         119|        ready|        NULL|        NULL|        NULL|                NULL|          NULL|       1|      voice|second|     flat|Appel vocal local...|      0.05|        30|          NULL|      NULL|         0|\n",
      "|      Silver|   VOICE_NAT|212637298216|34c6384a-6a81-4bd...|2025-06-10 17:09:...|   TETOUAN_18|        5G|212637298216|212754643912|         527|        ready|        NULL|        NULL|        NULL|                NULL|          NULL|      10|      voice|second|     flat|Appel vocal local...|      0.05|        30|          NULL|      NULL|         0|\n",
      "|      Silver|   VOICE_NAT|212637298216|dcb81f6b-a6a8-4bd...|2025-06-10 17:10:...|          UNK|        5G|212637298216|212676444201|         201|        ready|        NULL|        NULL|        NULL|                NULL|          NULL|      14|      voice|second|     flat|Appel vocal local...|      0.05|        30|          NULL|      NULL|         0|\n",
      "|        Gold|   VOICE_NAT|212698457056|f59b49b9-e6cb-40a...|2025-06-10 17:09:...|      SAFI_09|        2G|212698457056|212718246351|         455|        ready|        NULL|        NULL|        NULL|                NULL|          NULL|       5|      voice|second|     flat|Appel vocal local...|     0.035|        60|          NULL|      NULL|         0|\n",
      "|        Gold|   VOICE_NAT|212698457056|e0c7161b-32bd-427...|2025-06-10 17:09:...|CASABLANCA_02|        4G|212698457056|212745994411|         349|        ready|        NULL|        NULL|        NULL|                NULL|          NULL|      12|      voice|second|     flat|Appel vocal local...|     0.035|        60|          NULL|      NULL|         0|\n",
      "|        Gold|   VOICE_NAT|212698457056|61d216f2-5ae1-4e8...|2025-06-10 17:09:...|   KENITRA_10|        3G|212698457056|212797903325|          64|        ready|        NULL|        NULL|        NULL|                NULL|          NULL|       6|      voice|second|     flat|Appel vocal local...|     0.035|        60|          NULL|      NULL|         0|\n",
      "|      Silver|   VOICE_NAT|212799801813|8c34e0c0-8181-47b...|2025-06-10 17:10:...|CASABLANCA_16|        3G|212799801813|212641751971|         502|        ready|        NULL|        NULL|        NULL|                NULL|          NULL|      14|      voice|second|     flat|Appel vocal local...|      0.05|        30|          NULL|      NULL|         0|\n",
      "|    Titanium|   VOICE_NAT|212626326086|78ccf598-e808-486...|2025-06-10 17:08:...|      SAFI_08|        5G|212626326086|212601981747|         413|        ready|        NULL|        NULL|        NULL|                NULL|          NULL|       2|      voice|second|     flat|Appel vocal local...|      0.02|       120|          NULL|      NULL|         0|\n",
      "|    Titanium|   DATA_PLUS|212603516508|638b4663-510b-4a2...|2025-06-10 17:10:...|   KENITRA_03|        2G|        NULL|        NULL|        NULL|        ready|        NULL|        NULL|212603516508|                 UNK|           UNK|      18|       data|  NULL|     NULL|                NULL|      NULL|      NULL|          NULL|      NULL|         0|\n",
      "|    Titanium|   DATA_PLUS|212603516508|fa2f954c-792c-4c0...|2025-06-10 17:10:...|          UNK|        4G|        NULL|        NULL|        NULL|        ready|        NULL|        NULL|212603516508|                  60|        712.53|      20|       data|  NULL|     NULL|                NULL|      NULL|      NULL|          NULL|      NULL|    712.53|\n",
      "|        Gold|   DATA_PLUS|212754643912|efe8ca82-1670-491...|2025-06-10 17:08:...|          UNK|        2G|        NULL|        NULL|        NULL|        ready|        NULL|        NULL|212754643912|                 UNK|       1915.66|       3|       data|  NULL|     NULL|                NULL|      NULL|      NULL|          NULL|      NULL|   1915.66|\n",
      "|    Titanium|   DATA_PLUS|212626326086|e82af1ed-6a46-4fb...|2025-06-10 17:10:...|    MEKNES_12|        3G|        NULL|        NULL|        NULL|        ready|        NULL|        NULL|212626326086|                 114|         96.33|      18|       data|  NULL|     NULL|                NULL|      NULL|      NULL|          NULL|      NULL|     96.33|\n",
      "+------------+------------+------------+--------------------+--------------------+-------------+----------+------------+------------+------------+-------------+------------+------------+------------+--------------------+--------------+--------+-----------+------+---------+--------------------+----------+----------+--------------+----------+----------+\n",
      "only showing top 20 rows\n",
      "\n"
     ]
    }
   ],
   "source": [
    "cdrJoinRating.show()"
   ]
  },
  {
   "cell_type": "code",
   "execution_count": 42,
   "id": "f90936d6",
   "metadata": {},
   "outputs": [],
   "source": [
    "cdrJoinRating = cdrJoinRating.withColumn(\n",
    "    \"dur_sec_imp\",\n",
    "    when(col(\"duration_sec\").isNull() | (col(\"duration_sec\") < 0), lit(0))\n",
    "    .otherwise(col(\"duration_sec\"))\n",
    ")"
   ]
  },
  {
   "cell_type": "code",
   "execution_count": 43,
   "id": "bb662ace",
   "metadata": {},
   "outputs": [],
   "source": [
    "cdrJoinRating = cdrJoinRating.withColumn(\n",
    "    \"billable_units\",\n",
    "    when(col(\"record_type\") == \"voice\",\n",
    "         ceil(col(\"dur_sec_imp\")))\n",
    "    .when(col(\"record_type\") == \"sms\",\n",
    "         lit(1))\n",
    "    .otherwise(                    \n",
    "         col(\"imputed_mb\"))\n",
    ")\n"
   ]
  },
  {
   "cell_type": "code",
   "execution_count": 44,
   "id": "26f0b329",
   "metadata": {},
   "outputs": [
    {
     "name": "stdout",
     "output_type": "stream",
     "text": [
      "+------------+------------+------------+--------------------+--------------------+------------+----------+------------+-------------+------------+-------------+---------+-----------+------------+--------------------+--------------+--------+-----------+------+---------+--------------------+----------+----------+--------------+----------+----------+-----------+--------------+\n",
      "|rate_plan_id|product_code| customer_id|           record_ID|           timestamp|     cell_id|technology|   caller_id|    callee_id|duration_sec|rating_status|sender_id|receiver_id|     user_id|session_duration_sec|data_volume_mb|batch_id|record_type|  unit|rate_type|         description|unit_price|free_units|tier_threshold|tier_price|imputed_mb|dur_sec_imp|billable_units|\n",
      "+------------+------------+------------+--------------------+--------------------+------------+----------+------------+-------------+------------+-------------+---------+-----------+------------+--------------------+--------------+--------+-----------+------+---------+--------------------+----------+----------+--------------+----------+----------+-----------+--------------+\n",
      "|        Gold|  DATA_ULTRA|212754643912|ce4ed4c0-4372-406...|2025-06-10 17:10:...|         UNK|        5G|        NULL|         NULL|        NULL|        ready|     NULL|       NULL|212754643912|                 320|        880.97|      19|       data|    MB|   tiered|Connexion Interne...|     0.003|       250|          1000|     0.001|    880.97|          0|        880.97|\n",
      "|        Gold|   VOICE_INT|212643052129|08ed0b9d-b9fa-49e...|2025-06-10 17:08:...|   TANGER_18|        4G|212643052129|  61110017570|         465|        ready|     NULL|       NULL|        NULL|                NULL|          NULL|       3|      voice|second|     flat|Appel vocal inter...|      0.18|        10|          NULL|      NULL|         0|        465|           465|\n",
      "|      Silver|   VOICE_INT|212765464481|dbd5ac45-4316-4fc...|2025-06-10 17:10:...|      FES_20|        5G|212765464481|  32999784042|         299|        ready|     NULL|       NULL|        NULL|                NULL|          NULL|      15|      voice|second|     flat|Appel vocal inter...|      0.25|         0|          NULL|      NULL|         0|        299|           299|\n",
      "|    Titanium|   VOICE_INT|212782121833|8a468587-cdeb-405...|2025-06-10 17:09:...|ALHOCEIMA_13|        4G|212782121833|  32832693871|         102|        ready|     NULL|       NULL|        NULL|                NULL|          NULL|      11|      voice|second|     flat|Appel vocal inter...|      0.12|        30|          NULL|      NULL|         0|        102|           102|\n",
      "|      Silver|   VOICE_INT|212668974708|7a557c52-2392-483...|2025-06-10 17:10:...|     SAFI_12|        3G|212668974708|8651143177818|         170|        ready|     NULL|       NULL|        NULL|                NULL|          NULL|      16|      voice|second|     flat|Appel vocal inter...|      0.25|         0|          NULL|      NULL|         0|        170|           170|\n",
      "|      Silver|   VOICE_INT|212668974708|91aebe1d-2e2a-4be...|2025-06-10 17:08:...|    OUJDA_10|        5G|212668974708|4977199481415|         300|        ready|     NULL|       NULL|        NULL|                NULL|          NULL|       3|      voice|second|     flat|Appel vocal inter...|      0.25|         0|          NULL|      NULL|         0|        300|           300|\n",
      "|        Gold|  DATA_ULTRA|212631332366|48518d91-ff4a-41c...|2025-06-10 17:09:...|MARRAKECH_01|        4G|        NULL|         NULL|        NULL|        ready|     NULL|       NULL|212631332366|                 555|       1246.25|       9|       data|    MB|   tiered|Connexion Interne...|     0.003|       250|          1000|     0.001|   1246.25|          0|       1246.25|\n",
      "|        Gold|   VOICE_INT|212609685757|979f009a-2f6c-48b...|2025-06-10 17:09:...|         UNK|        3G|212609685757| 351930360125|         574|        ready|     NULL|       NULL|        NULL|                NULL|          NULL|       8|      voice|second|     flat|Appel vocal inter...|      0.18|        10|          NULL|      NULL|         0|        574|           574|\n",
      "|      Silver|   VOICE_INT|212608118208|87c78692-b0c1-4fa...|2025-06-10 17:08:...|   DAKHLA_01|        3G|212608118208| 908492321257|         204|        ready|     NULL|       NULL|        NULL|                NULL|          NULL|       1|      voice|second|     flat|Appel vocal inter...|      0.25|         0|          NULL|      NULL|         0|        204|           204|\n",
      "|        Gold|   VOICE_INT|212609780872|508b5d59-fd77-42e...|2025-06-10 17:09:...|  TETOUAN_07|        4G|212609780872|4974102615979|         309|        ready|     NULL|       NULL|        NULL|                NULL|          NULL|      13|      voice|second|     flat|Appel vocal inter...|      0.18|        10|          NULL|      NULL|         0|        309|           309|\n",
      "|        Gold|   VOICE_INT|212666741423|c98c0dd2-52b3-4e0...|2025-06-10 17:09:...|    RABAT_07|        3G|212666741423|  14744287662|         499|        ready|     NULL|       NULL|        NULL|                NULL|          NULL|      13|      voice|second|     flat|Appel vocal inter...|      0.18|        10|          NULL|      NULL|         0|        499|           499|\n",
      "|        Gold|   VOICE_INT|212666741423|6f5a65dc-bd62-40b...|2025-06-10 17:08:...|         UNK|        4G|212666741423|5598676896950|         263|        ready|     NULL|       NULL|        NULL|                NULL|          NULL|       3|      voice|second|     flat|Appel vocal inter...|      0.18|        10|          NULL|      NULL|         0|        263|           263|\n",
      "|    Titanium|  DATA_ULTRA|212625978085|000e001a-96a9-4b7...|2025-06-10 17:09:...|         UNK|        2G|        NULL|         NULL|        NULL|        ready|     NULL|       NULL|212625978085|                 118|        776.57|      11|       data|    MB|   tiered|Connexion Interne...|     0.002|       512|          2048|     0.001|    776.57|          0|        776.57|\n",
      "|        Gold|  DATA_ULTRA|212668073532|13ed4624-86e0-468...|2025-06-10 17:10:...|         UNK|        5G|        NULL|         NULL|        NULL|        ready|     NULL|       NULL|212668073532|                 578|           UNK|      14|       data|    MB|   tiered|Connexion Interne...|     0.003|       250|          1000|     0.001|         0|          0|             0|\n",
      "|    Titanium|  DATA_ULTRA|212664732397|ec271f1a-11bd-445...|2025-06-10 17:10:...|         UNK|        4G|        NULL|         NULL|        NULL|        ready|     NULL|       NULL|212664732397|                 UNK|        118.09|      17|       data|    MB|   tiered|Connexion Interne...|     0.002|       512|          2048|     0.001|    118.09|          0|        118.09|\n",
      "|    Titanium|   VOICE_INT|212664732397|c87b4fef-527c-442...|2025-06-10 17:09:...| LAAYOUNE_18|        2G|212664732397|8690250745375|         486|        ready|     NULL|       NULL|        NULL|                NULL|          NULL|      13|      voice|second|     flat|Appel vocal inter...|      0.12|        30|          NULL|      NULL|         0|        486|           486|\n",
      "|      Silver|  DATA_ULTRA|212641329359|1229c019-af85-409...|2025-06-10 17:09:...|  KENITRA_08|        4G|        NULL|         NULL|        NULL|        ready|     NULL|       NULL|212641329359|                 UNK|       1184.37|       7|       data|    MB|   tiered|Connexion Interne...|     0.005|       200|           500|     0.002|   1184.37|          0|       1184.37|\n",
      "|      Silver|  DATA_ULTRA|212641329359|ced6f06c-4b3b-419...|2025-06-10 17:09:...|         UNK|        4G|        NULL|         NULL|        NULL|        ready|     NULL|       NULL|212641329359|                 UNK|       1543.65|       7|       data|    MB|   tiered|Connexion Interne...|     0.005|       200|           500|     0.002|   1543.65|          0|       1543.65|\n",
      "|        Gold|  DATA_ULTRA|212603715531|d234359b-74cc-4ae...|2025-06-10 17:08:...|   DAKHLA_01|        5G|        NULL|         NULL|        NULL|        ready|     NULL|       NULL|212603715531|                 285|        725.71|       2|       data|    MB|   tiered|Connexion Interne...|     0.003|       250|          1000|     0.001|    725.71|          0|        725.71|\n",
      "|      Silver|   VOICE_INT|212658603474|a997f240-1ba6-478...|2025-06-10 17:10:...|         UNK|        4G|212658603474|  61480121315|          86|        ready|     NULL|       NULL|        NULL|                NULL|          NULL|      14|      voice|second|     flat|Appel vocal inter...|      0.25|         0|          NULL|      NULL|         0|         86|            86|\n",
      "+------------+------------+------------+--------------------+--------------------+------------+----------+------------+-------------+------------+-------------+---------+-----------+------------+--------------------+--------------+--------+-----------+------+---------+--------------------+----------+----------+--------------+----------+----------+-----------+--------------+\n",
      "only showing top 20 rows\n",
      "\n"
     ]
    }
   ],
   "source": [
    "cdrJoinRating.show()"
   ]
  },
  {
   "cell_type": "code",
   "execution_count": 45,
   "id": "a9a6a4fd",
   "metadata": {},
   "outputs": [],
   "source": [
    "from pyspark.sql.functions import coalesce\n",
    "\n",
    "cdrJoinRating = (cdrJoinRating\n",
    "    .withColumn(\"free_units\",    coalesce(col(\"free_units\"),    lit(0)))\n",
    "    .withColumn(\"tier_threshold\",coalesce(col(\"tier_threshold\"),lit(0)))\n",
    "    .withColumn(\"unit_price\",    coalesce(col(\"unit_price\"),    lit(0.0)))\n",
    "    .withColumn(\"tier_price\",    coalesce(col(\"tier_price\"),    lit(0.0)))\n",
    ")\n"
   ]
  },
  {
   "cell_type": "code",
   "execution_count": 46,
   "id": "5ba8ab70",
   "metadata": {},
   "outputs": [],
   "source": [
    "cdrsRated = cdrJoinRating.withColumn(\n",
    "    \"cost\",\n",
    "    when(col(\"rate_type\") == \"flat\",\n",
    "         when(col(\"billable_units\") <= col(\"free_units\"), lit(0))\n",
    "         .otherwise((col(\"billable_units\") - col(\"free_units\")) * col(\"unit_price\")))\n",
    "    .when(col(\"rate_type\") == \"tiered\",\n",
    "         when(col(\"billable_units\") <= col(\"free_units\"), lit(0))\n",
    "         .when(col(\"billable_units\") <= col(\"tier_threshold\"),\n",
    "               (col(\"billable_units\") - col(\"free_units\")) * col(\"unit_price\"))\n",
    "         .otherwise(\n",
    "               (col(\"tier_threshold\") - col(\"free_units\")) * col(\"unit_price\") +\n",
    "               (col(\"billable_units\") - col(\"tier_threshold\")) * col(\"tier_price\")))\n",
    ")\n",
    "\n",
    "cdrsRated = cdrsRated.withColumn(\n",
    "    \"rating_status\",\n",
    "    when(col(\"cost\").isNull(),\"unmatched\")\n",
    "    .otherwise(\"rated\")\n",
    ")\n"
   ]
  },
  {
   "cell_type": "code",
   "execution_count": 47,
   "id": "a279048f",
   "metadata": {},
   "outputs": [
    {
     "name": "stdout",
     "output_type": "stream",
     "text": [
      "+------------------------------------+------------+------------+--------------+----------+------------------+-------------+\n",
      "|record_ID                           |customer_id |product_code|billable_units|unit_price|cost              |rating_status|\n",
      "+------------------------------------+------------+------------+--------------+----------+------------------+-------------+\n",
      "|ce4ed4c0-4372-4061-890a-131e96bb6fef|212754643912|DATA_ULTRA  |880.97        |0.003     |1.89291           |rated        |\n",
      "|08ed0b9d-b9fa-49e6-8f5b-938cb66907bb|212643052129|VOICE_INT   |465           |0.18      |81.89999999999999 |rated        |\n",
      "|dbd5ac45-4316-4fce-9c59-33f8b8720bfb|212765464481|VOICE_INT   |299           |0.25      |74.75             |rated        |\n",
      "|8a468587-cdeb-4050-b37b-e6a04ce053fb|212782121833|VOICE_INT   |102           |0.12      |8.64              |rated        |\n",
      "|7a557c52-2392-4832-bc25-cc6dd87a7882|212668974708|VOICE_INT   |170           |0.25      |42.5              |rated        |\n",
      "|91aebe1d-2e2a-4bef-a7d2-623be2fb3708|212668974708|VOICE_INT   |300           |0.25      |75.0              |rated        |\n",
      "|48518d91-ff4a-41ce-b5f8-37147789efcd|212631332366|DATA_ULTRA  |1246.25       |0.003     |2.49625           |rated        |\n",
      "|979f009a-2f6c-48b2-a770-8b174c5a1a92|212609685757|VOICE_INT   |574           |0.18      |101.52            |rated        |\n",
      "|87c78692-b0c1-4fa5-8c24-1f9a96b1e1a3|212608118208|VOICE_INT   |204           |0.25      |51.0              |rated        |\n",
      "|508b5d59-fd77-42e0-ba6c-263d9fac3237|212609780872|VOICE_INT   |309           |0.18      |53.82             |rated        |\n",
      "|c98c0dd2-52b3-4e02-8573-ef93ab6e3389|212666741423|VOICE_INT   |499           |0.18      |88.02             |rated        |\n",
      "|6f5a65dc-bd62-40b3-92b6-6f6160687698|212666741423|VOICE_INT   |263           |0.18      |45.54             |rated        |\n",
      "|000e001a-96a9-4b76-b9e0-aa68b15f8d37|212625978085|DATA_ULTRA  |776.57        |0.002     |0.5291400000000002|rated        |\n",
      "|13ed4624-86e0-468f-94ee-a9f4eff75ece|212668073532|DATA_ULTRA  |0             |0.003     |0.0               |rated        |\n",
      "|ec271f1a-11bd-4453-9162-55a072b201e8|212664732397|DATA_ULTRA  |118.09        |0.002     |0.0               |rated        |\n",
      "|c87b4fef-527c-4421-9cce-0bd5f4f5a37d|212664732397|VOICE_INT   |486           |0.12      |54.72             |rated        |\n",
      "|1229c019-af85-4097-92d4-00c4adf0c933|212641329359|DATA_ULTRA  |1184.37       |0.005     |2.86874           |rated        |\n",
      "|ced6f06c-4b3b-4199-8963-a2c40bca7644|212641329359|DATA_ULTRA  |1543.65       |0.005     |3.5873000000000004|rated        |\n",
      "|d234359b-74cc-4ae9-b1c8-a4b42b38597b|212603715531|DATA_ULTRA  |725.71        |0.003     |1.4271300000000002|rated        |\n",
      "|a997f240-1ba6-4782-a0d5-be7a25ef9e71|212658603474|VOICE_INT   |86            |0.25      |21.5              |rated        |\n",
      "+------------------------------------+------------+------------+--------------+----------+------------------+-------------+\n",
      "only showing top 20 rows\n",
      "\n"
     ]
    }
   ],
   "source": [
    "cdrsRated.select(\"record_ID\",\"customer_id\",\"product_code\",\n",
    "                 \"billable_units\",\"unit_price\",\"cost\",\"rating_status\") \\\n",
    "         .show(truncate=False)\n"
   ]
  },
  {
   "cell_type": "code",
   "execution_count": 48,
   "id": "dfa86650",
   "metadata": {},
   "outputs": [],
   "source": [
    "from pyspark.sql.functions import date_format\n",
    "\n",
    "cdrsRated = cdrsRated.withColumn(\n",
    "    \"billing_period\",\n",
    "    date_format(col(\"timestamp\"), \"yyyy-MM\")\n",
    ")"
   ]
  },
  {
   "cell_type": "code",
   "execution_count": 49,
   "id": "441201ec",
   "metadata": {},
   "outputs": [
    {
     "name": "stdout",
     "output_type": "stream",
     "text": [
      "✓ Rating terminé : Parquet écrit dans rated_cdrs/\n"
     ]
    }
   ],
   "source": [
    "(\n",
    " cdrsRated\n",
    " .write\n",
    " .mode(\"overwrite\")\n",
    " .partitionBy(\"billing_period\")\n",
    " .parquet(\"rated_data/\")\n",
    ")\n",
    "\n",
    "print(\"✓ Rating terminé : Parquet écrit dans rated_cdrs/\")\n"
   ]
  },
  {
   "cell_type": "code",
   "execution_count": 50,
   "id": "8a2d4730",
   "metadata": {},
   "outputs": [
    {
     "name": "stdout",
     "output_type": "stream",
     "text": [
      "+------------+------------+------------+--------------------+--------------------+------------+----------+------------+-------------+------------+-------------+---------+-----------+------------+--------------------+--------------+--------+-----------+------+---------+--------------------+----------+----------+--------------+----------+----------+-----------+--------------+------------------+--------------+\n",
      "|rate_plan_id|product_code| customer_id|           record_ID|           timestamp|     cell_id|technology|   caller_id|    callee_id|duration_sec|rating_status|sender_id|receiver_id|     user_id|session_duration_sec|data_volume_mb|batch_id|record_type|  unit|rate_type|         description|unit_price|free_units|tier_threshold|tier_price|imputed_mb|dur_sec_imp|billable_units|              cost|billing_period|\n",
      "+------------+------------+------------+--------------------+--------------------+------------+----------+------------+-------------+------------+-------------+---------+-----------+------------+--------------------+--------------+--------+-----------+------+---------+--------------------+----------+----------+--------------+----------+----------+-----------+--------------+------------------+--------------+\n",
      "|        Gold|  DATA_ULTRA|212754643912|ce4ed4c0-4372-406...|2025-06-10 17:10:...|         UNK|        5G|        NULL|         NULL|        NULL|        rated|     NULL|       NULL|212754643912|                 320|        880.97|      19|       data|    MB|   tiered|Connexion Interne...|     0.003|       250|          1000|     0.001|    880.97|          0|        880.97|           1.89291|       2025-06|\n",
      "|        Gold|   VOICE_INT|212643052129|08ed0b9d-b9fa-49e...|2025-06-10 17:08:...|   TANGER_18|        4G|212643052129|  61110017570|         465|        rated|     NULL|       NULL|        NULL|                NULL|          NULL|       3|      voice|second|     flat|Appel vocal inter...|      0.18|        10|             0|       0.0|         0|        465|           465| 81.89999999999999|       2025-06|\n",
      "|      Silver|   VOICE_INT|212765464481|dbd5ac45-4316-4fc...|2025-06-10 17:10:...|      FES_20|        5G|212765464481|  32999784042|         299|        rated|     NULL|       NULL|        NULL|                NULL|          NULL|      15|      voice|second|     flat|Appel vocal inter...|      0.25|         0|             0|       0.0|         0|        299|           299|             74.75|       2025-06|\n",
      "|    Titanium|   VOICE_INT|212782121833|8a468587-cdeb-405...|2025-06-10 17:09:...|ALHOCEIMA_13|        4G|212782121833|  32832693871|         102|        rated|     NULL|       NULL|        NULL|                NULL|          NULL|      11|      voice|second|     flat|Appel vocal inter...|      0.12|        30|             0|       0.0|         0|        102|           102|              8.64|       2025-06|\n",
      "|      Silver|   VOICE_INT|212668974708|7a557c52-2392-483...|2025-06-10 17:10:...|     SAFI_12|        3G|212668974708|8651143177818|         170|        rated|     NULL|       NULL|        NULL|                NULL|          NULL|      16|      voice|second|     flat|Appel vocal inter...|      0.25|         0|             0|       0.0|         0|        170|           170|              42.5|       2025-06|\n",
      "|      Silver|   VOICE_INT|212668974708|91aebe1d-2e2a-4be...|2025-06-10 17:08:...|    OUJDA_10|        5G|212668974708|4977199481415|         300|        rated|     NULL|       NULL|        NULL|                NULL|          NULL|       3|      voice|second|     flat|Appel vocal inter...|      0.25|         0|             0|       0.0|         0|        300|           300|              75.0|       2025-06|\n",
      "|        Gold|  DATA_ULTRA|212631332366|48518d91-ff4a-41c...|2025-06-10 17:09:...|MARRAKECH_01|        4G|        NULL|         NULL|        NULL|        rated|     NULL|       NULL|212631332366|                 555|       1246.25|       9|       data|    MB|   tiered|Connexion Interne...|     0.003|       250|          1000|     0.001|   1246.25|          0|       1246.25|           2.49625|       2025-06|\n",
      "|        Gold|   VOICE_INT|212609685757|979f009a-2f6c-48b...|2025-06-10 17:09:...|         UNK|        3G|212609685757| 351930360125|         574|        rated|     NULL|       NULL|        NULL|                NULL|          NULL|       8|      voice|second|     flat|Appel vocal inter...|      0.18|        10|             0|       0.0|         0|        574|           574|            101.52|       2025-06|\n",
      "|      Silver|   VOICE_INT|212608118208|87c78692-b0c1-4fa...|2025-06-10 17:08:...|   DAKHLA_01|        3G|212608118208| 908492321257|         204|        rated|     NULL|       NULL|        NULL|                NULL|          NULL|       1|      voice|second|     flat|Appel vocal inter...|      0.25|         0|             0|       0.0|         0|        204|           204|              51.0|       2025-06|\n",
      "|        Gold|   VOICE_INT|212609780872|508b5d59-fd77-42e...|2025-06-10 17:09:...|  TETOUAN_07|        4G|212609780872|4974102615979|         309|        rated|     NULL|       NULL|        NULL|                NULL|          NULL|      13|      voice|second|     flat|Appel vocal inter...|      0.18|        10|             0|       0.0|         0|        309|           309|             53.82|       2025-06|\n",
      "|        Gold|   VOICE_INT|212666741423|c98c0dd2-52b3-4e0...|2025-06-10 17:09:...|    RABAT_07|        3G|212666741423|  14744287662|         499|        rated|     NULL|       NULL|        NULL|                NULL|          NULL|      13|      voice|second|     flat|Appel vocal inter...|      0.18|        10|             0|       0.0|         0|        499|           499|             88.02|       2025-06|\n",
      "|        Gold|   VOICE_INT|212666741423|6f5a65dc-bd62-40b...|2025-06-10 17:08:...|         UNK|        4G|212666741423|5598676896950|         263|        rated|     NULL|       NULL|        NULL|                NULL|          NULL|       3|      voice|second|     flat|Appel vocal inter...|      0.18|        10|             0|       0.0|         0|        263|           263|             45.54|       2025-06|\n",
      "|    Titanium|  DATA_ULTRA|212625978085|000e001a-96a9-4b7...|2025-06-10 17:09:...|         UNK|        2G|        NULL|         NULL|        NULL|        rated|     NULL|       NULL|212625978085|                 118|        776.57|      11|       data|    MB|   tiered|Connexion Interne...|     0.002|       512|          2048|     0.001|    776.57|          0|        776.57|0.5291400000000002|       2025-06|\n",
      "|        Gold|  DATA_ULTRA|212668073532|13ed4624-86e0-468...|2025-06-10 17:10:...|         UNK|        5G|        NULL|         NULL|        NULL|        rated|     NULL|       NULL|212668073532|                 578|           UNK|      14|       data|    MB|   tiered|Connexion Interne...|     0.003|       250|          1000|     0.001|         0|          0|             0|               0.0|       2025-06|\n",
      "|    Titanium|  DATA_ULTRA|212664732397|ec271f1a-11bd-445...|2025-06-10 17:10:...|         UNK|        4G|        NULL|         NULL|        NULL|        rated|     NULL|       NULL|212664732397|                 UNK|        118.09|      17|       data|    MB|   tiered|Connexion Interne...|     0.002|       512|          2048|     0.001|    118.09|          0|        118.09|               0.0|       2025-06|\n",
      "|    Titanium|   VOICE_INT|212664732397|c87b4fef-527c-442...|2025-06-10 17:09:...| LAAYOUNE_18|        2G|212664732397|8690250745375|         486|        rated|     NULL|       NULL|        NULL|                NULL|          NULL|      13|      voice|second|     flat|Appel vocal inter...|      0.12|        30|             0|       0.0|         0|        486|           486|             54.72|       2025-06|\n",
      "|      Silver|  DATA_ULTRA|212641329359|1229c019-af85-409...|2025-06-10 17:09:...|  KENITRA_08|        4G|        NULL|         NULL|        NULL|        rated|     NULL|       NULL|212641329359|                 UNK|       1184.37|       7|       data|    MB|   tiered|Connexion Interne...|     0.005|       200|           500|     0.002|   1184.37|          0|       1184.37|           2.86874|       2025-06|\n",
      "|      Silver|  DATA_ULTRA|212641329359|ced6f06c-4b3b-419...|2025-06-10 17:09:...|         UNK|        4G|        NULL|         NULL|        NULL|        rated|     NULL|       NULL|212641329359|                 UNK|       1543.65|       7|       data|    MB|   tiered|Connexion Interne...|     0.005|       200|           500|     0.002|   1543.65|          0|       1543.65|3.5873000000000004|       2025-06|\n",
      "|        Gold|  DATA_ULTRA|212603715531|d234359b-74cc-4ae...|2025-06-10 17:08:...|   DAKHLA_01|        5G|        NULL|         NULL|        NULL|        rated|     NULL|       NULL|212603715531|                 285|        725.71|       2|       data|    MB|   tiered|Connexion Interne...|     0.003|       250|          1000|     0.001|    725.71|          0|        725.71|1.4271300000000002|       2025-06|\n",
      "|      Silver|   VOICE_INT|212658603474|a997f240-1ba6-478...|2025-06-10 17:10:...|         UNK|        4G|212658603474|  61480121315|          86|        rated|     NULL|       NULL|        NULL|                NULL|          NULL|      14|      voice|second|     flat|Appel vocal inter...|      0.25|         0|             0|       0.0|         0|         86|            86|              21.5|       2025-06|\n",
      "+------------+------------+------------+--------------------+--------------------+------------+----------+------------+-------------+------------+-------------+---------+-----------+------------+--------------------+--------------+--------+-----------+------+---------+--------------------+----------+----------+--------------+----------+----------+-----------+--------------+------------------+--------------+\n",
      "only showing top 20 rows\n",
      "\n"
     ]
    }
   ],
   "source": [
    "cdrsRated.show()"
   ]
  },
  {
   "cell_type": "code",
   "execution_count": null,
   "id": "139b0aab",
   "metadata": {},
   "outputs": [],
   "source": []
  }
 ],
 "metadata": {
  "kernelspec": {
   "display_name": "Python 3",
   "language": "python",
   "name": "python3"
  },
  "language_info": {
   "codemirror_mode": {
    "name": "ipython",
    "version": 3
   },
   "file_extension": ".py",
   "mimetype": "text/x-python",
   "name": "python",
   "nbconvert_exporter": "python",
   "pygments_lexer": "ipython3",
   "version": "3.12.5"
  }
 },
 "nbformat": 4,
 "nbformat_minor": 5
}
